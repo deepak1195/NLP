{
  "cells": [
    {
      "cell_type": "markdown",
      "metadata": {
        "id": "view-in-github",
        "colab_type": "text"
      },
      "source": [
        "<a href=\"https://colab.research.google.com/github/deepak1195/NaturalLanguageProcessing/blob/main/016_ClassificationUsingFastText.ipynb\" target=\"_parent\"><img src=\"https://colab.research.google.com/assets/colab-badge.svg\" alt=\"Open In Colab\"/></a>"
      ]
    },
    {
      "cell_type": "code",
      "execution_count": null,
      "id": "18346687",
      "metadata": {
        "id": "18346687",
        "outputId": "bb99dccf-266c-4fb6-e9ab-da06ad2022aa"
      },
      "outputs": [
        {
          "name": "stdout",
          "output_type": "stream",
          "text": [
            "fatal: destination path 'fastText' already exists and is not an empty directory.\n",
            "Requirement already satisfied: fastText in /home/deepakkumar/anaconda3/lib/python3.8/site-packages (0.9.2)\n",
            "Requirement already satisfied: pybind11>=2.2 in /home/deepakkumar/anaconda3/lib/python3.8/site-packages (from fastText) (2.11.1)\n",
            "Requirement already satisfied: setuptools>=0.7.0 in /home/deepakkumar/anaconda3/lib/python3.8/site-packages (from fastText) (52.0.0.post20210125)\n",
            "Requirement already satisfied: numpy in /home/deepakkumar/anaconda3/lib/python3.8/site-packages (from fastText) (1.23.5)\n"
          ]
        }
      ],
      "source": [
        "!git clone https://github.com/facebookresearch/fastText.git\n",
        "!cd fastText\n",
        "!pip install fastText\n",
        "import fasttext"
      ]
    },
    {
      "cell_type": "code",
      "execution_count": null,
      "id": "a0afd3c2",
      "metadata": {
        "id": "a0afd3c2",
        "outputId": "acae0ba3-45f9-4b7c-eea3-bbfaddcf927b"
      },
      "outputs": [
        {
          "name": "stderr",
          "output_type": "stream",
          "text": [
            "Warning : `load_model` does not return WordVectorModel or SupervisedModel any more, but a `FastText` object which is very similar.\n"
          ]
        }
      ],
      "source": [
        "modelEn=fasttext.load_model('/home/deepakkumar/Downloads/cc.en.300.bin')"
      ]
    },
    {
      "cell_type": "code",
      "execution_count": null,
      "id": "3c99c282",
      "metadata": {
        "id": "3c99c282"
      },
      "outputs": [],
      "source": [
        "import numpy as np\n",
        "import pandas as pd"
      ]
    },
    {
      "cell_type": "code",
      "execution_count": null,
      "id": "2a773322",
      "metadata": {
        "id": "2a773322",
        "outputId": "41553129-810b-4d3b-b5b8-988c9c663e93"
      },
      "outputs": [
        {
          "data": {
            "text/html": [
              "<div>\n",
              "<style scoped>\n",
              "    .dataframe tbody tr th:only-of-type {\n",
              "        vertical-align: middle;\n",
              "    }\n",
              "\n",
              "    .dataframe tbody tr th {\n",
              "        vertical-align: top;\n",
              "    }\n",
              "\n",
              "    .dataframe thead th {\n",
              "        text-align: right;\n",
              "    }\n",
              "</style>\n",
              "<table border=\"1\" class=\"dataframe\">\n",
              "  <thead>\n",
              "    <tr style=\"text-align: right;\">\n",
              "      <th></th>\n",
              "      <th>category</th>\n",
              "      <th>description</th>\n",
              "    </tr>\n",
              "  </thead>\n",
              "  <tbody>\n",
              "    <tr>\n",
              "      <th>0</th>\n",
              "      <td>Household</td>\n",
              "      <td>Paper Plane Design Framed Wall Hanging Motivat...</td>\n",
              "    </tr>\n",
              "    <tr>\n",
              "      <th>1</th>\n",
              "      <td>Household</td>\n",
              "      <td>SAF 'Floral' Framed Painting (Wood, 30 inch x ...</td>\n",
              "    </tr>\n",
              "    <tr>\n",
              "      <th>2</th>\n",
              "      <td>Household</td>\n",
              "      <td>SAF 'UV Textured Modern Art Print Framed' Pain...</td>\n",
              "    </tr>\n",
              "    <tr>\n",
              "      <th>3</th>\n",
              "      <td>Household</td>\n",
              "      <td>SAF Flower Print Framed Painting (Synthetic, 1...</td>\n",
              "    </tr>\n",
              "    <tr>\n",
              "      <th>4</th>\n",
              "      <td>Household</td>\n",
              "      <td>Incredible Gifts India Wooden Happy Birthday U...</td>\n",
              "    </tr>\n",
              "    <tr>\n",
              "      <th>...</th>\n",
              "      <td>...</td>\n",
              "      <td>...</td>\n",
              "    </tr>\n",
              "    <tr>\n",
              "      <th>50420</th>\n",
              "      <td>Electronics</td>\n",
              "      <td>Strontium MicroSD Class 10 8GB Memory Card (Bl...</td>\n",
              "    </tr>\n",
              "    <tr>\n",
              "      <th>50421</th>\n",
              "      <td>Electronics</td>\n",
              "      <td>CrossBeats Wave Waterproof Bluetooth Wireless ...</td>\n",
              "    </tr>\n",
              "    <tr>\n",
              "      <th>50422</th>\n",
              "      <td>Electronics</td>\n",
              "      <td>Karbonn Titanium Wind W4 (White) Karbonn Titan...</td>\n",
              "    </tr>\n",
              "    <tr>\n",
              "      <th>50423</th>\n",
              "      <td>Electronics</td>\n",
              "      <td>Samsung Guru FM Plus (SM-B110E/D, Black) Colou...</td>\n",
              "    </tr>\n",
              "    <tr>\n",
              "      <th>50424</th>\n",
              "      <td>Electronics</td>\n",
              "      <td>Micromax Canvas Win W121 (White)</td>\n",
              "    </tr>\n",
              "  </tbody>\n",
              "</table>\n",
              "<p>50425 rows × 2 columns</p>\n",
              "</div>"
            ],
            "text/plain": [
              "          category                                        description\n",
              "0        Household  Paper Plane Design Framed Wall Hanging Motivat...\n",
              "1        Household  SAF 'Floral' Framed Painting (Wood, 30 inch x ...\n",
              "2        Household  SAF 'UV Textured Modern Art Print Framed' Pain...\n",
              "3        Household  SAF Flower Print Framed Painting (Synthetic, 1...\n",
              "4        Household  Incredible Gifts India Wooden Happy Birthday U...\n",
              "...            ...                                                ...\n",
              "50420  Electronics  Strontium MicroSD Class 10 8GB Memory Card (Bl...\n",
              "50421  Electronics  CrossBeats Wave Waterproof Bluetooth Wireless ...\n",
              "50422  Electronics  Karbonn Titanium Wind W4 (White) Karbonn Titan...\n",
              "50423  Electronics  Samsung Guru FM Plus (SM-B110E/D, Black) Colou...\n",
              "50424  Electronics                   Micromax Canvas Win W121 (White)\n",
              "\n",
              "[50425 rows x 2 columns]"
            ]
          },
          "execution_count": 4,
          "metadata": {},
          "output_type": "execute_result"
        }
      ],
      "source": [
        "df=pd.read_csv(\"ecommerce_dataset.csv\",header=None,).rename(columns={0:'category',1:'description'})\n",
        "df"
      ]
    },
    {
      "cell_type": "code",
      "execution_count": null,
      "id": "1b5bd23a",
      "metadata": {
        "id": "1b5bd23a"
      },
      "outputs": [],
      "source": [
        "df.dropna(inplace=True)"
      ]
    },
    {
      "cell_type": "code",
      "execution_count": null,
      "id": "33f0ca5e",
      "metadata": {
        "id": "33f0ca5e",
        "outputId": "bb46fe64-659e-4c5e-e2aa-9886062ef0bf"
      },
      "outputs": [
        {
          "data": {
            "text/plain": [
              "Household                 19313\n",
              "Books                     11820\n",
              "Electronics               10621\n",
              "Clothing & Accessories     8670\n",
              "Name: category, dtype: int64"
            ]
          },
          "execution_count": 6,
          "metadata": {},
          "output_type": "execute_result"
        }
      ],
      "source": [
        "df.category.value_counts()"
      ]
    },
    {
      "cell_type": "code",
      "execution_count": null,
      "id": "ab9b7a8b",
      "metadata": {
        "id": "ab9b7a8b",
        "outputId": "3d81b2ce-fa29-459c-f03e-750c18945592"
      },
      "outputs": [
        {
          "data": {
            "text/plain": [
              "array(['Household', 'Books', 'ClothingAccessories', 'Electronics'],\n",
              "      dtype=object)"
            ]
          },
          "execution_count": 7,
          "metadata": {},
          "output_type": "execute_result"
        }
      ],
      "source": [
        "df.category.replace(\"Clothing & Accessories\",\"ClothingAccessories\",inplace=True)\n",
        "df.category.unique()"
      ]
    },
    {
      "cell_type": "code",
      "execution_count": null,
      "id": "125e45b3",
      "metadata": {
        "id": "125e45b3",
        "outputId": "b0aeda2c-6fab-417b-bafa-c505b7f1a9ab"
      },
      "outputs": [
        {
          "data": {
            "text/plain": [
              "array(['__label__Household', '__label__Books',\n",
              "       '__label__ClothingAccessories', '__label__Electronics'],\n",
              "      dtype=object)"
            ]
          },
          "execution_count": 8,
          "metadata": {},
          "output_type": "execute_result"
        }
      ],
      "source": [
        "df.category='__label__'+df.category\n",
        "df.category.unique()"
      ]
    },
    {
      "cell_type": "code",
      "execution_count": null,
      "id": "a0dbd91f",
      "metadata": {
        "id": "a0dbd91f",
        "outputId": "f768e2c3-1760-4287-ea83-7a4472761688"
      },
      "outputs": [
        {
          "data": {
            "text/html": [
              "<div>\n",
              "<style scoped>\n",
              "    .dataframe tbody tr th:only-of-type {\n",
              "        vertical-align: middle;\n",
              "    }\n",
              "\n",
              "    .dataframe tbody tr th {\n",
              "        vertical-align: top;\n",
              "    }\n",
              "\n",
              "    .dataframe thead th {\n",
              "        text-align: right;\n",
              "    }\n",
              "</style>\n",
              "<table border=\"1\" class=\"dataframe\">\n",
              "  <thead>\n",
              "    <tr style=\"text-align: right;\">\n",
              "      <th></th>\n",
              "      <th>category</th>\n",
              "      <th>description</th>\n",
              "      <th>catDesc</th>\n",
              "    </tr>\n",
              "  </thead>\n",
              "  <tbody>\n",
              "    <tr>\n",
              "      <th>0</th>\n",
              "      <td>__label__Household</td>\n",
              "      <td>Paper Plane Design Framed Wall Hanging Motivat...</td>\n",
              "      <td>__label__Household Paper Plane Design Framed W...</td>\n",
              "    </tr>\n",
              "    <tr>\n",
              "      <th>1</th>\n",
              "      <td>__label__Household</td>\n",
              "      <td>SAF 'Floral' Framed Painting (Wood, 30 inch x ...</td>\n",
              "      <td>__label__Household SAF 'Floral' Framed Paintin...</td>\n",
              "    </tr>\n",
              "    <tr>\n",
              "      <th>2</th>\n",
              "      <td>__label__Household</td>\n",
              "      <td>SAF 'UV Textured Modern Art Print Framed' Pain...</td>\n",
              "      <td>__label__Household SAF 'UV Textured Modern Art...</td>\n",
              "    </tr>\n",
              "    <tr>\n",
              "      <th>3</th>\n",
              "      <td>__label__Household</td>\n",
              "      <td>SAF Flower Print Framed Painting (Synthetic, 1...</td>\n",
              "      <td>__label__Household SAF Flower Print Framed Pai...</td>\n",
              "    </tr>\n",
              "    <tr>\n",
              "      <th>4</th>\n",
              "      <td>__label__Household</td>\n",
              "      <td>Incredible Gifts India Wooden Happy Birthday U...</td>\n",
              "      <td>__label__Household Incredible Gifts India Wood...</td>\n",
              "    </tr>\n",
              "    <tr>\n",
              "      <th>...</th>\n",
              "      <td>...</td>\n",
              "      <td>...</td>\n",
              "      <td>...</td>\n",
              "    </tr>\n",
              "    <tr>\n",
              "      <th>50420</th>\n",
              "      <td>__label__Electronics</td>\n",
              "      <td>Strontium MicroSD Class 10 8GB Memory Card (Bl...</td>\n",
              "      <td>__label__Electronics Strontium MicroSD Class 1...</td>\n",
              "    </tr>\n",
              "    <tr>\n",
              "      <th>50421</th>\n",
              "      <td>__label__Electronics</td>\n",
              "      <td>CrossBeats Wave Waterproof Bluetooth Wireless ...</td>\n",
              "      <td>__label__Electronics CrossBeats Wave Waterproo...</td>\n",
              "    </tr>\n",
              "    <tr>\n",
              "      <th>50422</th>\n",
              "      <td>__label__Electronics</td>\n",
              "      <td>Karbonn Titanium Wind W4 (White) Karbonn Titan...</td>\n",
              "      <td>__label__Electronics Karbonn Titanium Wind W4 ...</td>\n",
              "    </tr>\n",
              "    <tr>\n",
              "      <th>50423</th>\n",
              "      <td>__label__Electronics</td>\n",
              "      <td>Samsung Guru FM Plus (SM-B110E/D, Black) Colou...</td>\n",
              "      <td>__label__Electronics Samsung Guru FM Plus (SM-...</td>\n",
              "    </tr>\n",
              "    <tr>\n",
              "      <th>50424</th>\n",
              "      <td>__label__Electronics</td>\n",
              "      <td>Micromax Canvas Win W121 (White)</td>\n",
              "      <td>__label__Electronics Micromax Canvas Win W121 ...</td>\n",
              "    </tr>\n",
              "  </tbody>\n",
              "</table>\n",
              "<p>50424 rows × 3 columns</p>\n",
              "</div>"
            ],
            "text/plain": [
              "                   category  \\\n",
              "0        __label__Household   \n",
              "1        __label__Household   \n",
              "2        __label__Household   \n",
              "3        __label__Household   \n",
              "4        __label__Household   \n",
              "...                     ...   \n",
              "50420  __label__Electronics   \n",
              "50421  __label__Electronics   \n",
              "50422  __label__Electronics   \n",
              "50423  __label__Electronics   \n",
              "50424  __label__Electronics   \n",
              "\n",
              "                                             description  \\\n",
              "0      Paper Plane Design Framed Wall Hanging Motivat...   \n",
              "1      SAF 'Floral' Framed Painting (Wood, 30 inch x ...   \n",
              "2      SAF 'UV Textured Modern Art Print Framed' Pain...   \n",
              "3      SAF Flower Print Framed Painting (Synthetic, 1...   \n",
              "4      Incredible Gifts India Wooden Happy Birthday U...   \n",
              "...                                                  ...   \n",
              "50420  Strontium MicroSD Class 10 8GB Memory Card (Bl...   \n",
              "50421  CrossBeats Wave Waterproof Bluetooth Wireless ...   \n",
              "50422  Karbonn Titanium Wind W4 (White) Karbonn Titan...   \n",
              "50423  Samsung Guru FM Plus (SM-B110E/D, Black) Colou...   \n",
              "50424                   Micromax Canvas Win W121 (White)   \n",
              "\n",
              "                                                 catDesc  \n",
              "0      __label__Household Paper Plane Design Framed W...  \n",
              "1      __label__Household SAF 'Floral' Framed Paintin...  \n",
              "2      __label__Household SAF 'UV Textured Modern Art...  \n",
              "3      __label__Household SAF Flower Print Framed Pai...  \n",
              "4      __label__Household Incredible Gifts India Wood...  \n",
              "...                                                  ...  \n",
              "50420  __label__Electronics Strontium MicroSD Class 1...  \n",
              "50421  __label__Electronics CrossBeats Wave Waterproo...  \n",
              "50422  __label__Electronics Karbonn Titanium Wind W4 ...  \n",
              "50423  __label__Electronics Samsung Guru FM Plus (SM-...  \n",
              "50424  __label__Electronics Micromax Canvas Win W121 ...  \n",
              "\n",
              "[50424 rows x 3 columns]"
            ]
          },
          "execution_count": 9,
          "metadata": {},
          "output_type": "execute_result"
        }
      ],
      "source": [
        "df['catDesc']=df.category+' '+df.description\n",
        "df"
      ]
    },
    {
      "cell_type": "code",
      "execution_count": null,
      "id": "6fc0dbbb",
      "metadata": {
        "id": "6fc0dbbb",
        "outputId": "55c1851d-eab7-4d58-e791-e59722e9e1f9"
      },
      "outputs": [
        {
          "data": {
            "text/plain": [
              "0        __label__household paper plane design framed w...\n",
              "1        __label__household saf  floral  framed paintin...\n",
              "2        __label__household saf  uv textured modern art...\n",
              "3        __label__household saf flower print framed pai...\n",
              "4        __label__household incredible gifts india wood...\n",
              "                               ...                        \n",
              "50420    __label__electronics strontium microsd class 1...\n",
              "50421    __label__electronics crossbeats wave waterproo...\n",
              "50422    __label__electronics karbonn titanium wind w4 ...\n",
              "50423    __label__electronics samsung guru fm plus  sm ...\n",
              "50424    __label__electronics micromax canvas win w121 ...\n",
              "Name: catDesc, Length: 50424, dtype: object"
            ]
          },
          "execution_count": 10,
          "metadata": {},
          "output_type": "execute_result"
        }
      ],
      "source": [
        "import re\n",
        "df.catDesc=df['catDesc'].apply(lambda txt : re.sub(r'[^\\w\\s]',' ',re.sub(r'[ \\n]+',' ',txt)).lower())\n",
        "df[\"catDesc\"]"
      ]
    },
    {
      "cell_type": "code",
      "execution_count": null,
      "id": "7fa105a0",
      "metadata": {
        "id": "7fa105a0"
      },
      "outputs": [],
      "source": [
        "from sklearn.model_selection import train_test_split\n",
        "train, test=train_test_split(df,test_size=0.25,random_state=2023)"
      ]
    },
    {
      "cell_type": "code",
      "execution_count": null,
      "id": "52a02dad",
      "metadata": {
        "id": "52a02dad"
      },
      "outputs": [],
      "source": [
        "train.to_csv(\"ecomDesc.train\",columns=['catDesc'],header=None,index=False)\n",
        "test.to_csv(\"ecomDesc.test\",columns=['catDesc'],header=None,index=False)"
      ]
    },
    {
      "cell_type": "code",
      "execution_count": null,
      "id": "05b4fe95",
      "metadata": {
        "id": "05b4fe95",
        "outputId": "ecab3407-3398-4d88-8df2-a68ce34504b6"
      },
      "outputs": [
        {
          "data": {
            "text/plain": [
              "(37818, 0.9817547199746153, 0.9817547199746153)"
            ]
          },
          "execution_count": 13,
          "metadata": {},
          "output_type": "execute_result"
        }
      ],
      "source": [
        "model=fasttext.train_supervised(\"ecomDesc.train\")\n",
        "model.test(\"ecomDesc.train\")"
      ]
    },
    {
      "cell_type": "code",
      "execution_count": null,
      "id": "83b7db78",
      "metadata": {
        "id": "83b7db78",
        "outputId": "d68afd7c-1fce-4bad-c14c-14161ae63a76"
      },
      "outputs": [
        {
          "data": {
            "text/plain": [
              "(('__label__electronics',), array([0.8977105]))"
            ]
          },
          "execution_count": 14,
          "metadata": {},
          "output_type": "execute_result"
        }
      ],
      "source": [
        "model.predict(test['description'][46844])"
      ]
    },
    {
      "cell_type": "code",
      "execution_count": null,
      "id": "66795f23",
      "metadata": {
        "id": "66795f23",
        "outputId": "ed592451-fe48-4200-fe0e-663ea694d2ca"
      },
      "outputs": [
        {
          "data": {
            "text/plain": [
              "(('__label__household',), array([0.97972047]))"
            ]
          },
          "execution_count": 15,
          "metadata": {},
          "output_type": "execute_result"
        }
      ],
      "source": [
        "model.predict(test['description'][980])"
      ]
    },
    {
      "cell_type": "code",
      "execution_count": null,
      "id": "82a488a4",
      "metadata": {
        "id": "82a488a4"
      },
      "outputs": [],
      "source": []
    }
  ],
  "metadata": {
    "kernelspec": {
      "display_name": "Python 3",
      "language": "python",
      "name": "python3"
    },
    "language_info": {
      "codemirror_mode": {
        "name": "ipython",
        "version": 3
      },
      "file_extension": ".py",
      "mimetype": "text/x-python",
      "name": "python",
      "nbconvert_exporter": "python",
      "pygments_lexer": "ipython3",
      "version": "3.8.8"
    },
    "colab": {
      "provenance": [],
      "include_colab_link": true
    }
  },
  "nbformat": 4,
  "nbformat_minor": 5
}