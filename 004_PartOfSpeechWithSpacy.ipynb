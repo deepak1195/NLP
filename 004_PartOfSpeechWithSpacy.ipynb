{
  "nbformat": 4,
  "nbformat_minor": 0,
  "metadata": {
    "colab": {
      "provenance": [],
      "authorship_tag": "ABX9TyMv2dZwNWv9EGdOOuXJCFRO",
      "include_colab_link": true
    },
    "kernelspec": {
      "name": "python3",
      "display_name": "Python 3"
    },
    "language_info": {
      "name": "python"
    }
  },
  "cells": [
    {
      "cell_type": "markdown",
      "metadata": {
        "id": "view-in-github",
        "colab_type": "text"
      },
      "source": [
        "<a href=\"https://colab.research.google.com/github/deepak1195/NLP_Using_Spacy/blob/main/004_PartOfSpeechWithSpacy.ipynb\" target=\"_parent\"><img src=\"https://colab.research.google.com/assets/colab-badge.svg\" alt=\"Open In Colab\"/></a>"
      ]
    },
    {
      "cell_type": "code",
      "execution_count": 1,
      "metadata": {
        "id": "DAHPWAm5YCy7"
      },
      "outputs": [],
      "source": [
        "import spacy\n",
        "nlp=spacy.load(\"en_core_web_sm\")"
      ]
    },
    {
      "cell_type": "code",
      "source": [
        "par=\"Today Apple and Google jointly submitted a proposed industry specification to help combat the misuse of Bluetooth location-tracking devices for unwanted tracking.\""
      ],
      "metadata": {
        "id": "iea64tjGHISJ"
      },
      "execution_count": 2,
      "outputs": []
    },
    {
      "cell_type": "markdown",
      "source": [
        "### Details of Tokens"
      ],
      "metadata": {
        "id": "eu8uKELhRzv6"
      }
    },
    {
      "cell_type": "code",
      "source": [
        "doc=nlp(par)\n",
        "for tk in doc:\n",
        "  print(f\"{tk.text} --> {tk.pos_} || {spacy.explain(tk.pos_)} | {tk.tag_} | {spacy.explain(tk.tag_)}\")"
      ],
      "metadata": {
        "colab": {
          "base_uri": "https://localhost:8080/"
        },
        "id": "hGwQlGMlJb0t",
        "outputId": "b13a057a-9ac5-4eb7-f5f6-50ecc1812034"
      },
      "execution_count": 3,
      "outputs": [
        {
          "output_type": "stream",
          "name": "stdout",
          "text": [
            "Today --> NOUN || noun | NN | noun, singular or mass\n",
            "Apple --> PROPN || proper noun | NNP | noun, proper singular\n",
            "and --> CCONJ || coordinating conjunction | CC | conjunction, coordinating\n",
            "Google --> PROPN || proper noun | NNP | noun, proper singular\n",
            "jointly --> ADV || adverb | RB | adverb\n",
            "submitted --> VERB || verb | VBD | verb, past tense\n",
            "a --> DET || determiner | DT | determiner\n",
            "proposed --> VERB || verb | VBN | verb, past participle\n",
            "industry --> NOUN || noun | NN | noun, singular or mass\n",
            "specification --> NOUN || noun | NN | noun, singular or mass\n",
            "to --> PART || particle | TO | infinitival \"to\"\n",
            "help --> VERB || verb | VB | verb, base form\n",
            "combat --> VERB || verb | VB | verb, base form\n",
            "the --> DET || determiner | DT | determiner\n",
            "misuse --> NOUN || noun | NN | noun, singular or mass\n",
            "of --> ADP || adposition | IN | conjunction, subordinating or preposition\n",
            "Bluetooth --> PROPN || proper noun | NNP | noun, proper singular\n",
            "location --> NOUN || noun | NN | noun, singular or mass\n",
            "- --> PUNCT || punctuation | HYPH | punctuation mark, hyphen\n",
            "tracking --> NOUN || noun | NN | noun, singular or mass\n",
            "devices --> NOUN || noun | NNS | noun, plural\n",
            "for --> ADP || adposition | IN | conjunction, subordinating or preposition\n",
            "unwanted --> ADJ || adjective | JJ | adjective (English), other noun-modifier (Chinese)\n",
            "tracking --> NOUN || noun | NN | noun, singular or mass\n",
            ". --> PUNCT || punctuation | . | punctuation mark, sentence closer\n"
          ]
        }
      ]
    },
    {
      "cell_type": "code",
      "source": [
        "for tk in doc:\n",
        "  if tk.pos_ not in ['SPACE','CCONJ','ADP','DET','X','PUNCT','PART']:\n",
        "    print(f\"{tk.text} --> {tk.pos_} | {spacy.explain(tk.pos_)} || {tk.tag_} | {spacy.explain(tk.tag_)}\")"
      ],
      "metadata": {
        "colab": {
          "base_uri": "https://localhost:8080/"
        },
        "id": "VBRoFegiJ1Oo",
        "outputId": "342214fd-fa8f-4f3d-ea44-93b753796656"
      },
      "execution_count": 4,
      "outputs": [
        {
          "output_type": "stream",
          "name": "stdout",
          "text": [
            "Today --> NOUN | noun || NN | noun, singular or mass\n",
            "Apple --> PROPN | proper noun || NNP | noun, proper singular\n",
            "Google --> PROPN | proper noun || NNP | noun, proper singular\n",
            "jointly --> ADV | adverb || RB | adverb\n",
            "submitted --> VERB | verb || VBD | verb, past tense\n",
            "proposed --> VERB | verb || VBN | verb, past participle\n",
            "industry --> NOUN | noun || NN | noun, singular or mass\n",
            "specification --> NOUN | noun || NN | noun, singular or mass\n",
            "help --> VERB | verb || VB | verb, base form\n",
            "combat --> VERB | verb || VB | verb, base form\n",
            "misuse --> NOUN | noun || NN | noun, singular or mass\n",
            "Bluetooth --> PROPN | proper noun || NNP | noun, proper singular\n",
            "location --> NOUN | noun || NN | noun, singular or mass\n",
            "tracking --> NOUN | noun || NN | noun, singular or mass\n",
            "devices --> NOUN | noun || NNS | noun, plural\n",
            "unwanted --> ADJ | adjective || JJ | adjective (English), other noun-modifier (Chinese)\n",
            "tracking --> NOUN | noun || NN | noun, singular or mass\n"
          ]
        }
      ]
    },
    {
      "cell_type": "markdown",
      "source": [
        "### Frequency of each POS"
      ],
      "metadata": {
        "id": "gRvEXB86RkIn"
      }
    },
    {
      "cell_type": "code",
      "source": [
        "pCnt=doc.count_by(spacy.attrs.POS)\n",
        "pCnt"
      ],
      "metadata": {
        "colab": {
          "base_uri": "https://localhost:8080/"
        },
        "id": "mewwNueuNe5o",
        "outputId": "d88fe291-2e35-4041-f890-18943ab5a79b"
      },
      "execution_count": 5,
      "outputs": [
        {
          "output_type": "execute_result",
          "data": {
            "text/plain": [
              "{92: 8, 96: 3, 89: 1, 86: 1, 100: 4, 90: 2, 94: 1, 85: 2, 97: 2, 84: 1}"
            ]
          },
          "metadata": {},
          "execution_count": 5
        }
      ]
    },
    {
      "cell_type": "code",
      "source": [
        "for k,v in pCnt.items():\n",
        "  print(f\"{doc.vocab[k].text} --> {v}\")"
      ],
      "metadata": {
        "colab": {
          "base_uri": "https://localhost:8080/"
        },
        "id": "3hXJLZZSPFE2",
        "outputId": "9c40b44b-687d-46b6-c821-46efec901934"
      },
      "execution_count": 6,
      "outputs": [
        {
          "output_type": "stream",
          "name": "stdout",
          "text": [
            "NOUN --> 8\n",
            "PROPN --> 3\n",
            "CCONJ --> 1\n",
            "ADV --> 1\n",
            "VERB --> 4\n",
            "DET --> 2\n",
            "PART --> 1\n",
            "ADP --> 2\n",
            "PUNCT --> 2\n",
            "ADJ --> 1\n"
          ]
        }
      ]
    },
    {
      "cell_type": "code",
      "source": [],
      "metadata": {
        "id": "Lb-0mqhBPxv6"
      },
      "execution_count": 6,
      "outputs": []
    }
  ]
}