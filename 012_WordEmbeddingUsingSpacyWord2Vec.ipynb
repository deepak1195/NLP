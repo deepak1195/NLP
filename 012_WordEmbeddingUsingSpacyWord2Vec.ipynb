{
  "nbformat": 4,
  "nbformat_minor": 0,
  "metadata": {
    "colab": {
      "provenance": [],
      "authorship_tag": "ABX9TyOGqVSGorHp0vGpVxAgQEsH",
      "include_colab_link": true
    },
    "kernelspec": {
      "name": "python3",
      "display_name": "Python 3"
    },
    "language_info": {
      "name": "python"
    }
  },
  "cells": [
    {
      "cell_type": "markdown",
      "metadata": {
        "id": "view-in-github",
        "colab_type": "text"
      },
      "source": [
        "<a href=\"https://colab.research.google.com/github/deepak1195/NaturalLanguageProcessing/blob/main/012_WordEmbeddingUsingSpacyWord2Vec.ipynb\" target=\"_parent\"><img src=\"https://colab.research.google.com/assets/colab-badge.svg\" alt=\"Open In Colab\"/></a>"
      ]
    },
    {
      "cell_type": "code",
      "execution_count": 1,
      "metadata": {
        "id": "fp72eJgRMVfL"
      },
      "outputs": [],
      "source": [
        "import spacy"
      ]
    },
    {
      "cell_type": "code",
      "source": [
        "!python -m spacy download en_core_web_lg"
      ],
      "metadata": {
        "colab": {
          "base_uri": "https://localhost:8080/"
        },
        "id": "SbwNeZS_CFKW",
        "outputId": "f62512e9-5e3e-4e21-e597-46353dc420f7"
      },
      "execution_count": 2,
      "outputs": [
        {
          "output_type": "stream",
          "name": "stdout",
          "text": [
            "2023-07-30 14:08:55.645838: W tensorflow/compiler/tf2tensorrt/utils/py_utils.cc:38] TF-TRT Warning: Could not find TensorRT\n",
            "Collecting en-core-web-lg==3.5.0\n",
            "  Downloading https://github.com/explosion/spacy-models/releases/download/en_core_web_lg-3.5.0/en_core_web_lg-3.5.0-py3-none-any.whl (587.7 MB)\n",
            "\u001b[2K     \u001b[90m━━━━━━━━━━━━━━━━━━━━━━━━━━━━━━━━━━━━━━━\u001b[0m \u001b[32m587.7/587.7 MB\u001b[0m \u001b[31m2.1 MB/s\u001b[0m eta \u001b[36m0:00:00\u001b[0m\n",
            "\u001b[?25hRequirement already satisfied: spacy<3.6.0,>=3.5.0 in /usr/local/lib/python3.10/dist-packages (from en-core-web-lg==3.5.0) (3.5.4)\n",
            "Requirement already satisfied: spacy-legacy<3.1.0,>=3.0.11 in /usr/local/lib/python3.10/dist-packages (from spacy<3.6.0,>=3.5.0->en-core-web-lg==3.5.0) (3.0.12)\n",
            "Requirement already satisfied: spacy-loggers<2.0.0,>=1.0.0 in /usr/local/lib/python3.10/dist-packages (from spacy<3.6.0,>=3.5.0->en-core-web-lg==3.5.0) (1.0.4)\n",
            "Requirement already satisfied: murmurhash<1.1.0,>=0.28.0 in /usr/local/lib/python3.10/dist-packages (from spacy<3.6.0,>=3.5.0->en-core-web-lg==3.5.0) (1.0.9)\n",
            "Requirement already satisfied: cymem<2.1.0,>=2.0.2 in /usr/local/lib/python3.10/dist-packages (from spacy<3.6.0,>=3.5.0->en-core-web-lg==3.5.0) (2.0.7)\n",
            "Requirement already satisfied: preshed<3.1.0,>=3.0.2 in /usr/local/lib/python3.10/dist-packages (from spacy<3.6.0,>=3.5.0->en-core-web-lg==3.5.0) (3.0.8)\n",
            "Requirement already satisfied: thinc<8.2.0,>=8.1.8 in /usr/local/lib/python3.10/dist-packages (from spacy<3.6.0,>=3.5.0->en-core-web-lg==3.5.0) (8.1.10)\n",
            "Requirement already satisfied: wasabi<1.2.0,>=0.9.1 in /usr/local/lib/python3.10/dist-packages (from spacy<3.6.0,>=3.5.0->en-core-web-lg==3.5.0) (1.1.2)\n",
            "Requirement already satisfied: srsly<3.0.0,>=2.4.3 in /usr/local/lib/python3.10/dist-packages (from spacy<3.6.0,>=3.5.0->en-core-web-lg==3.5.0) (2.4.7)\n",
            "Requirement already satisfied: catalogue<2.1.0,>=2.0.6 in /usr/local/lib/python3.10/dist-packages (from spacy<3.6.0,>=3.5.0->en-core-web-lg==3.5.0) (2.0.9)\n",
            "Requirement already satisfied: typer<0.10.0,>=0.3.0 in /usr/local/lib/python3.10/dist-packages (from spacy<3.6.0,>=3.5.0->en-core-web-lg==3.5.0) (0.9.0)\n",
            "Requirement already satisfied: pathy>=0.10.0 in /usr/local/lib/python3.10/dist-packages (from spacy<3.6.0,>=3.5.0->en-core-web-lg==3.5.0) (0.10.2)\n",
            "Requirement already satisfied: smart-open<7.0.0,>=5.2.1 in /usr/local/lib/python3.10/dist-packages (from spacy<3.6.0,>=3.5.0->en-core-web-lg==3.5.0) (6.3.0)\n",
            "Requirement already satisfied: tqdm<5.0.0,>=4.38.0 in /usr/local/lib/python3.10/dist-packages (from spacy<3.6.0,>=3.5.0->en-core-web-lg==3.5.0) (4.65.0)\n",
            "Requirement already satisfied: numpy>=1.15.0 in /usr/local/lib/python3.10/dist-packages (from spacy<3.6.0,>=3.5.0->en-core-web-lg==3.5.0) (1.22.4)\n",
            "Requirement already satisfied: requests<3.0.0,>=2.13.0 in /usr/local/lib/python3.10/dist-packages (from spacy<3.6.0,>=3.5.0->en-core-web-lg==3.5.0) (2.27.1)\n",
            "Requirement already satisfied: pydantic!=1.8,!=1.8.1,<1.11.0,>=1.7.4 in /usr/local/lib/python3.10/dist-packages (from spacy<3.6.0,>=3.5.0->en-core-web-lg==3.5.0) (1.10.12)\n",
            "Requirement already satisfied: jinja2 in /usr/local/lib/python3.10/dist-packages (from spacy<3.6.0,>=3.5.0->en-core-web-lg==3.5.0) (3.1.2)\n",
            "Requirement already satisfied: setuptools in /usr/local/lib/python3.10/dist-packages (from spacy<3.6.0,>=3.5.0->en-core-web-lg==3.5.0) (67.7.2)\n",
            "Requirement already satisfied: packaging>=20.0 in /usr/local/lib/python3.10/dist-packages (from spacy<3.6.0,>=3.5.0->en-core-web-lg==3.5.0) (23.1)\n",
            "Requirement already satisfied: langcodes<4.0.0,>=3.2.0 in /usr/local/lib/python3.10/dist-packages (from spacy<3.6.0,>=3.5.0->en-core-web-lg==3.5.0) (3.3.0)\n",
            "Requirement already satisfied: typing-extensions>=4.2.0 in /usr/local/lib/python3.10/dist-packages (from pydantic!=1.8,!=1.8.1,<1.11.0,>=1.7.4->spacy<3.6.0,>=3.5.0->en-core-web-lg==3.5.0) (4.7.1)\n",
            "Requirement already satisfied: urllib3<1.27,>=1.21.1 in /usr/local/lib/python3.10/dist-packages (from requests<3.0.0,>=2.13.0->spacy<3.6.0,>=3.5.0->en-core-web-lg==3.5.0) (1.26.16)\n",
            "Requirement already satisfied: certifi>=2017.4.17 in /usr/local/lib/python3.10/dist-packages (from requests<3.0.0,>=2.13.0->spacy<3.6.0,>=3.5.0->en-core-web-lg==3.5.0) (2023.7.22)\n",
            "Requirement already satisfied: charset-normalizer~=2.0.0 in /usr/local/lib/python3.10/dist-packages (from requests<3.0.0,>=2.13.0->spacy<3.6.0,>=3.5.0->en-core-web-lg==3.5.0) (2.0.12)\n",
            "Requirement already satisfied: idna<4,>=2.5 in /usr/local/lib/python3.10/dist-packages (from requests<3.0.0,>=2.13.0->spacy<3.6.0,>=3.5.0->en-core-web-lg==3.5.0) (3.4)\n",
            "Requirement already satisfied: blis<0.8.0,>=0.7.8 in /usr/local/lib/python3.10/dist-packages (from thinc<8.2.0,>=8.1.8->spacy<3.6.0,>=3.5.0->en-core-web-lg==3.5.0) (0.7.10)\n",
            "Requirement already satisfied: confection<1.0.0,>=0.0.1 in /usr/local/lib/python3.10/dist-packages (from thinc<8.2.0,>=8.1.8->spacy<3.6.0,>=3.5.0->en-core-web-lg==3.5.0) (0.1.0)\n",
            "Requirement already satisfied: click<9.0.0,>=7.1.1 in /usr/local/lib/python3.10/dist-packages (from typer<0.10.0,>=0.3.0->spacy<3.6.0,>=3.5.0->en-core-web-lg==3.5.0) (8.1.6)\n",
            "Requirement already satisfied: MarkupSafe>=2.0 in /usr/local/lib/python3.10/dist-packages (from jinja2->spacy<3.6.0,>=3.5.0->en-core-web-lg==3.5.0) (2.1.3)\n",
            "\u001b[38;5;2m✔ Download and installation successful\u001b[0m\n",
            "You can now load the package via spacy.load('en_core_web_lg')\n"
          ]
        }
      ]
    },
    {
      "cell_type": "code",
      "source": [
        "nlp=spacy.load('en_core_web_lg')"
      ],
      "metadata": {
        "id": "HJkN4fs8Bgj2"
      },
      "execution_count": 3,
      "outputs": []
    },
    {
      "cell_type": "code",
      "source": [
        "sent1=\"Milk Bread Butter Egg Sandwich Deepak Trousers Jacket Jeans\"\n",
        "doc=nlp(sent1)\n",
        "\n",
        "for tk in doc:\n",
        "  print(tk.text,\"Vector : \",tk.has_vector, \"OOV\", tk.is_oov)"
      ],
      "metadata": {
        "colab": {
          "base_uri": "https://localhost:8080/"
        },
        "id": "Y5OHzEiTCcKv",
        "outputId": "f7a1a2f9-41f9-488f-c40f-fa2f426400c2"
      },
      "execution_count": 4,
      "outputs": [
        {
          "output_type": "stream",
          "name": "stdout",
          "text": [
            "Milk Vector :  True OOV False\n",
            "Bread Vector :  True OOV False\n",
            "Butter Vector :  True OOV False\n",
            "Egg Vector :  True OOV False\n",
            "Sandwich Vector :  True OOV False\n",
            "Deepak Vector :  True OOV False\n",
            "Trousers Vector :  True OOV False\n",
            "Jacket Vector :  True OOV False\n",
            "Jeans Vector :  True OOV False\n"
          ]
        }
      ]
    },
    {
      "cell_type": "code",
      "source": [
        "doc[0].vector"
      ],
      "metadata": {
        "colab": {
          "base_uri": "https://localhost:8080/"
        },
        "id": "X79PwaJ5EK9r",
        "outputId": "ac4c02ba-884d-41e6-accc-d3ecb3bab340"
      },
      "execution_count": 5,
      "outputs": [
        {
          "output_type": "execute_result",
          "data": {
            "text/plain": [
              "array([ 2.6392e+00, -6.2760e-01, -3.4419e+00,  1.3166e+00,  4.0844e+00,\n",
              "       -5.0347e+00,  6.5436e+00, -2.8496e+00, -6.4240e-01,  2.2679e+00,\n",
              "       -1.8297e+00, -2.9089e+00,  1.5947e-01,  2.2972e+00, -2.5953e+00,\n",
              "       -4.2108e+00,  2.0657e+00, -5.6883e-01,  1.4124e+00, -1.1412e+00,\n",
              "       -4.8360e+00,  4.8498e+00, -1.7149e+00,  3.4161e+00, -4.8395e+00,\n",
              "       -1.7345e+00,  1.8243e+00,  3.4442e+00, -3.1820e+00, -2.0691e+00,\n",
              "        5.1311e+00,  9.7449e-02, -1.9278e+00,  2.5166e+00, -3.8404e+00,\n",
              "       -2.0508e+00, -1.6151e-02, -2.5236e+00, -5.9554e+00, -2.3556e-01,\n",
              "       -3.4251e+00,  2.5497e-01, -5.4516e+00,  3.0957e+00, -1.9024e+00,\n",
              "        7.4774e-01,  1.1274e+00,  6.3784e-01,  2.3166e+00, -4.8657e+00,\n",
              "        7.3907e-03,  9.9782e-01,  4.1468e+00,  1.0331e+00,  3.4362e+00,\n",
              "       -1.9603e+00, -4.9443e+00, -1.7170e+00,  1.8510e+00, -1.4930e+00,\n",
              "        1.0377e+00,  1.0638e+00,  2.1573e+00, -8.1441e-01,  7.5663e-01,\n",
              "       -1.0655e+00, -4.5550e+00, -5.6510e-01,  4.7886e+00, -1.8551e+00,\n",
              "       -5.2937e+00,  6.2618e-01, -3.1076e+00,  2.2940e+00, -1.4467e+00,\n",
              "        3.4809e-01, -1.8021e+00, -3.3735e+00,  1.8472e+00,  5.4424e+00,\n",
              "        6.0824e+00, -2.9173e-01, -9.8621e-01, -8.5731e-01, -1.2162e+00,\n",
              "       -8.9759e-01,  2.1082e+00,  2.0770e+00, -3.8863e+00,  6.3896e+00,\n",
              "        2.5409e+00,  9.7013e-01, -3.5369e-01, -1.5705e+00,  2.9983e-01,\n",
              "        2.2274e+00,  1.4280e+00, -1.4236e+00,  9.8765e-01, -2.9072e+00,\n",
              "        1.1467e+00, -5.9257e+00, -1.2001e+00,  2.4461e+00, -4.5503e-01,\n",
              "       -1.3191e+00,  7.5225e-01,  1.4957e+00,  2.0713e+00, -7.1907e-01,\n",
              "       -2.9845e+00,  4.3612e+00,  1.4541e+00, -1.8642e+00,  2.1350e+00,\n",
              "       -5.2289e+00,  1.1523e+00, -4.4023e+00, -3.1210e+00,  6.7325e-01,\n",
              "        1.8645e+00,  6.0145e-01,  3.1357e+00,  3.9481e-01,  1.5663e+00,\n",
              "       -1.8806e+00, -1.4966e+00, -3.4521e+00,  4.8994e+00, -5.3248e+00,\n",
              "        1.0785e+00, -2.6422e+00,  4.7801e+00,  1.3884e+00, -6.7950e+00,\n",
              "        9.7454e-01,  3.6464e+00, -3.7684e+00, -2.4453e+00, -1.7768e+00,\n",
              "        1.3778e+00, -9.1437e-01,  1.4847e+00, -3.0607e+00, -6.6302e-01,\n",
              "        4.5354e+00, -8.3648e-03, -4.7662e-01,  2.4583e+00,  1.5509e+00,\n",
              "        9.8320e-01, -6.8731e-01, -6.8249e+00,  6.1757e-02, -4.6131e+00,\n",
              "        2.6566e+00,  3.1798e+00, -2.9419e+00,  1.3471e+00, -3.9199e+00,\n",
              "        2.1956e+00, -9.9260e-01,  7.1812e-02,  3.4230e-01,  1.9046e+00,\n",
              "       -3.0126e+00, -1.6785e+00, -9.7268e-01,  4.4290e+00,  1.1042e+00,\n",
              "       -2.7663e+00, -4.0548e+00, -4.6376e-01,  2.3724e+00, -2.4576e+00,\n",
              "       -1.7013e+00,  3.4983e+00, -7.4319e-01,  2.4711e-01,  8.8818e-02,\n",
              "       -1.0702e+00, -4.0025e+00,  7.4956e-01, -1.7697e+00, -2.3275e+00,\n",
              "       -1.5964e+00, -1.4968e+00, -1.4607e+00,  2.0591e+00, -8.2006e-01,\n",
              "        3.4678e-01, -1.1796e+00, -1.9525e-01,  4.4580e+00, -1.9435e-01,\n",
              "        8.2932e-01, -2.4160e+00,  5.1912e+00, -4.7921e-02, -3.5740e+00,\n",
              "        7.1603e-01,  3.1940e+00,  1.5056e+00,  1.1274e-01,  8.6980e-01,\n",
              "       -1.2878e+00, -2.6738e+00,  1.9128e+00,  5.3269e+00,  4.2446e+00,\n",
              "       -1.8927e+00,  1.5961e+00,  5.5072e-01,  5.8549e-01, -2.6091e+00,\n",
              "       -4.6091e+00,  2.6545e+00, -2.5122e+00,  4.5455e-01,  3.6769e+00,\n",
              "       -1.0649e+00,  5.7696e-01, -2.0273e+00, -5.1344e+00,  3.3742e-01,\n",
              "       -7.7360e-01,  4.3710e-01,  1.2962e+00,  5.2813e-01,  4.3902e+00,\n",
              "       -4.8322e+00, -3.8013e-01, -5.9706e-01,  2.2131e+00,  2.5647e+00,\n",
              "        3.4864e+00,  6.4266e+00,  5.0720e+00,  4.4817e-01, -3.3985e+00,\n",
              "        4.2461e+00,  1.3279e+00,  1.3789e-01,  2.0208e+00, -1.4506e-01,\n",
              "        2.7080e+00, -7.2690e-01,  1.2434e+00, -4.8117e+00, -3.1630e+00,\n",
              "       -3.2697e+00, -1.2200e+00,  9.3882e-01,  8.8838e-01,  1.8889e+00,\n",
              "       -3.9597e+00, -6.7382e-01,  1.6319e+00,  1.3784e+00,  2.1600e+00,\n",
              "        2.2816e+00, -3.2783e+00, -1.2540e+00, -3.2961e+00,  1.6961e+00,\n",
              "        2.1472e-01, -2.4363e-01, -3.4771e+00, -1.0990e+00, -7.9594e-03,\n",
              "       -4.7955e-01,  2.7494e+00, -1.5956e+00,  2.2432e+00,  2.5303e+00,\n",
              "       -2.5708e+00,  1.0393e+00, -1.5305e+00, -3.3961e+00, -4.5474e+00,\n",
              "        2.1308e+00, -4.2293e+00, -2.1587e+00, -5.2634e+00, -2.8781e+00,\n",
              "       -3.4277e+00, -3.2554e-01, -1.8550e+00, -2.5701e-01,  3.4531e+00,\n",
              "        2.6243e-01, -7.9581e+00, -1.9691e+00, -3.4054e-02, -7.8621e+00,\n",
              "       -3.1112e+00,  4.6929e+00,  3.0735e-01, -2.8366e+00,  1.2761e+00],\n",
              "      dtype=float32)"
            ]
          },
          "metadata": {},
          "execution_count": 5
        }
      ]
    },
    {
      "cell_type": "code",
      "source": [
        "doc[0].vector.shape, doc[5].vector.shape"
      ],
      "metadata": {
        "colab": {
          "base_uri": "https://localhost:8080/"
        },
        "id": "vIVX9lWwEo-l",
        "outputId": "90de5214-217a-48b6-ae8c-f114a4ae6035"
      },
      "execution_count": 6,
      "outputs": [
        {
          "output_type": "execute_result",
          "data": {
            "text/plain": [
              "((300,), (300,))"
            ]
          },
          "metadata": {},
          "execution_count": 6
        }
      ]
    },
    {
      "cell_type": "code",
      "source": [
        "for tk in doc:\n",
        "  print(f\"{tk.text} --> {doc[-1]} : {tk.similarity(doc[-1])} || {tk.text} --> {doc[-5]} : {tk.similarity(doc[-5])}\")"
      ],
      "metadata": {
        "colab": {
          "base_uri": "https://localhost:8080/"
        },
        "id": "AyRJhlkRFNzm",
        "outputId": "1dcdd222-ad90-482e-a0b7-2c93396eafbc"
      },
      "execution_count": 7,
      "outputs": [
        {
          "output_type": "stream",
          "name": "stdout",
          "text": [
            "Milk --> Jeans : 0.26095566153526306 || Milk --> Sandwich : 0.43710383772850037\n",
            "Bread --> Jeans : 0.270821213722229 || Bread --> Sandwich : 0.5773969292640686\n",
            "Butter --> Jeans : 0.29999908804893494 || Butter --> Sandwich : 0.5356164574623108\n",
            "Egg --> Jeans : 0.1732727438211441 || Egg --> Sandwich : 0.5578433871269226\n",
            "Sandwich --> Jeans : 0.24027280509471893 || Sandwich --> Sandwich : 1.0\n",
            "Deepak --> Jeans : 0.07212607562541962 || Deepak --> Sandwich : -0.06813009828329086\n",
            "Trousers --> Jeans : 0.5777853727340698 || Trousers --> Sandwich : 0.13639765977859497\n",
            "Jacket --> Jeans : 0.6193966269493103 || Jacket --> Sandwich : 0.2899854779243469\n",
            "Jeans --> Jeans : 1.0 || Jeans --> Sandwich : 0.24027280509471893\n"
          ]
        }
      ]
    },
    {
      "cell_type": "code",
      "source": [
        "king=nlp.vocab['king'].vector\n",
        "man=nlp.vocab['man'].vector\n",
        "woman=nlp.vocab['woman'].vector\n",
        "queen=nlp.vocab['queen'].vector\n",
        "\n",
        "res=king-man+woman"
      ],
      "metadata": {
        "id": "4PyLb1yEFfJw"
      },
      "execution_count": 8,
      "outputs": []
    },
    {
      "cell_type": "code",
      "source": [
        "from sklearn.metrics.pairwise import cosine_similarity\n",
        "cosine_similarity([res],[queen])"
      ],
      "metadata": {
        "colab": {
          "base_uri": "https://localhost:8080/"
        },
        "id": "7PtGlZZgHJVg",
        "outputId": "027d641a-13c9-4b6e-d041-9a111a7701ca"
      },
      "execution_count": 9,
      "outputs": [
        {
          "output_type": "execute_result",
          "data": {
            "text/plain": [
              "array([[0.61780137]], dtype=float32)"
            ]
          },
          "metadata": {},
          "execution_count": 9
        }
      ]
    },
    {
      "cell_type": "code",
      "source": [],
      "metadata": {
        "id": "6Dc3KH7EH2fM"
      },
      "execution_count": 9,
      "outputs": []
    }
  ]
}