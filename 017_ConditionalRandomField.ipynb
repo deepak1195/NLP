{
  "nbformat": 4,
  "nbformat_minor": 0,
  "metadata": {
    "colab": {
      "provenance": [],
      "authorship_tag": "ABX9TyPfxsYeKBODE8Xc7UWqWe/R",
      "include_colab_link": true
    },
    "kernelspec": {
      "name": "python3",
      "display_name": "Python 3"
    },
    "language_info": {
      "name": "python"
    }
  },
  "cells": [
    {
      "cell_type": "markdown",
      "metadata": {
        "id": "view-in-github",
        "colab_type": "text"
      },
      "source": [
        "<a href=\"https://colab.research.google.com/github/deepak1195/NaturalLanguageProcessing/blob/main/017_ConditionalRandomField.ipynb\" target=\"_parent\"><img src=\"https://colab.research.google.com/assets/colab-badge.svg\" alt=\"Open In Colab\"/></a>"
      ]
    },
    {
      "cell_type": "code",
      "source": [
        "!pip install sklearn-crfsuite"
      ],
      "metadata": {
        "colab": {
          "base_uri": "https://localhost:8080/"
        },
        "id": "mzHRI3yWoXn7",
        "outputId": "4e780358-ceab-4962-bdff-a61cf0d9efab"
      },
      "execution_count": 1,
      "outputs": [
        {
          "output_type": "stream",
          "name": "stdout",
          "text": [
            "Requirement already satisfied: sklearn-crfsuite in /usr/local/lib/python3.10/dist-packages (0.3.6)\n",
            "Requirement already satisfied: python-crfsuite>=0.8.3 in /usr/local/lib/python3.10/dist-packages (from sklearn-crfsuite) (0.9.9)\n",
            "Requirement already satisfied: six in /usr/local/lib/python3.10/dist-packages (from sklearn-crfsuite) (1.16.0)\n",
            "Requirement already satisfied: tabulate in /usr/local/lib/python3.10/dist-packages (from sklearn-crfsuite) (0.9.0)\n",
            "Requirement already satisfied: tqdm>=2.0 in /usr/local/lib/python3.10/dist-packages (from sklearn-crfsuite) (4.66.1)\n"
          ]
        }
      ]
    },
    {
      "cell_type": "code",
      "execution_count": 2,
      "metadata": {
        "id": "eW7HtAKpnrKo"
      },
      "outputs": [],
      "source": [
        "import nltk\n",
        "import sklearn_crfsuite\n",
        "from sklearn_crfsuite import metrics"
      ]
    },
    {
      "cell_type": "code",
      "source": [
        "nltk.download('treebank')"
      ],
      "metadata": {
        "colab": {
          "base_uri": "https://localhost:8080/"
        },
        "id": "H3-zMOUlozWa",
        "outputId": "1657b179-7e32-44b8-c825-cc6e8509f39d"
      },
      "execution_count": 3,
      "outputs": [
        {
          "output_type": "stream",
          "name": "stderr",
          "text": [
            "[nltk_data] Downloading package treebank to /root/nltk_data...\n",
            "[nltk_data]   Package treebank is already up-to-date!\n"
          ]
        },
        {
          "output_type": "execute_result",
          "data": {
            "text/plain": [
              "True"
            ]
          },
          "metadata": {},
          "execution_count": 3
        }
      ]
    },
    {
      "cell_type": "code",
      "source": [
        "corpus=nltk.corpus.treebank.tagged_sents()\n",
        "corpus"
      ],
      "metadata": {
        "colab": {
          "base_uri": "https://localhost:8080/"
        },
        "id": "6ZB7l77noL_z",
        "outputId": "21566dc8-2364-4b24-de9c-6e588f853d8b"
      },
      "execution_count": 4,
      "outputs": [
        {
          "output_type": "execute_result",
          "data": {
            "text/plain": [
              "[[('Pierre', 'NNP'), ('Vinken', 'NNP'), (',', ','), ('61', 'CD'), ('years', 'NNS'), ('old', 'JJ'), (',', ','), ('will', 'MD'), ('join', 'VB'), ('the', 'DT'), ('board', 'NN'), ('as', 'IN'), ('a', 'DT'), ('nonexecutive', 'JJ'), ('director', 'NN'), ('Nov.', 'NNP'), ('29', 'CD'), ('.', '.')], [('Mr.', 'NNP'), ('Vinken', 'NNP'), ('is', 'VBZ'), ('chairman', 'NN'), ('of', 'IN'), ('Elsevier', 'NNP'), ('N.V.', 'NNP'), (',', ','), ('the', 'DT'), ('Dutch', 'NNP'), ('publishing', 'VBG'), ('group', 'NN'), ('.', '.')], ...]"
            ]
          },
          "metadata": {},
          "execution_count": 4
        }
      ]
    },
    {
      "cell_type": "code",
      "source": [
        "def wFeatures(sent, i):\n",
        "    word = sent[i][0]\n",
        "    features = {\n",
        "        'word': word,\n",
        "        'is_first': i == 0, #if the word is a first word\n",
        "        'is_last': i == len(sent) - 1,  #if the word is a last word\n",
        "        'is_capitalized': word[0].upper() == word[0],\n",
        "        'is_all_caps': word.upper() == word,      #word is in uppercase\n",
        "        'is_all_lower': word.lower() == word,      #word is in lowercase\n",
        "         #prefix of the word\n",
        "        'prefix-1': word[0],\n",
        "        'prefix-2': word[:2],\n",
        "        'prefix-3': word[:3],\n",
        "         #suffix of the word\n",
        "        'suffix-1': word[-1],\n",
        "        'suffix-2': word[-2:],\n",
        "        'suffix-3': word[-3:],\n",
        "         #extracting previous word\n",
        "        'prev_word': '' if i == 0 else sent[i-1][0],\n",
        "         #extracting next word\n",
        "        'next_word': '' if i == len(sent)-1 else sent[i+1][0],\n",
        "        'has_hyphen': '-' in word,    #if word has hypen\n",
        "        'is_numeric': word.isdigit(),  #if word is in numeric\n",
        "        'capitals_inside': word[1:].lower() != word[1:]\n",
        "    }\n",
        "    return features"
      ],
      "metadata": {
        "id": "OvBs2p3novHs"
      },
      "execution_count": 5,
      "outputs": []
    },
    {
      "cell_type": "code",
      "source": [
        "X = []\n",
        "Y = []\n",
        "for sent in corpus:\n",
        "    # print(sent)\n",
        "    xSentence = []\n",
        "    ySentence = []\n",
        "    for i in range(len(sent)):\n",
        "        xSentence.append(wFeatures(sent, i))\n",
        "        # print(xSentence[i])\n",
        "        ySentence.append(sent[i][1])\n",
        "        # print(ySentence[i])\n",
        "    X.append(xSentence)\n",
        "    # print(X)\n",
        "    Y.append(ySentence)\n",
        "    # print(Y)\n",
        "    # input()"
      ],
      "metadata": {
        "id": "Nimv-g_LpQge"
      },
      "execution_count": 6,
      "outputs": []
    },
    {
      "cell_type": "code",
      "source": [
        "# Split the data into training and testing sets\n",
        "split = int(0.8 * len(X))\n",
        "X_train = X[:split]\n",
        "y_train = Y[:split]\n",
        "X_test = X[split:]\n",
        "y_test = Y[split:]"
      ],
      "metadata": {
        "id": "FufKRiLRqEyh"
      },
      "execution_count": 7,
      "outputs": []
    },
    {
      "cell_type": "code",
      "source": [
        "crf = sklearn_crfsuite.CRF(\n",
        "    algorithm='lbfgs',\n",
        "    c1=0.1,\n",
        "    c2=0.1,\n",
        "    max_iterations=100,\n",
        "    all_possible_transitions=True\n",
        ")\n",
        "try:\n",
        "    crf.fit(X_train, y_train)\n",
        "except AttributeError:\n",
        "    pass"
      ],
      "metadata": {
        "id": "o3oDIyUnrf2o"
      },
      "execution_count": 8,
      "outputs": []
    },
    {
      "cell_type": "code",
      "source": [
        "y_pred = crf.predict(X_test)\n",
        "metrics.flat_accuracy_score(y_test, y_pred)"
      ],
      "metadata": {
        "colab": {
          "base_uri": "https://localhost:8080/"
        },
        "id": "1fsv4ro9rnKT",
        "outputId": "4e247020-aa8d-4160-800d-4ac4e03032cb"
      },
      "execution_count": 9,
      "outputs": [
        {
          "output_type": "execute_result",
          "data": {
            "text/plain": [
              "0.9632716203403363"
            ]
          },
          "metadata": {},
          "execution_count": 9
        }
      ]
    },
    {
      "cell_type": "code",
      "source": [],
      "metadata": {
        "id": "-KO9HPhnsyiT"
      },
      "execution_count": 9,
      "outputs": []
    }
  ]
}