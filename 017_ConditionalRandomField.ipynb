{
  "nbformat": 4,
  "nbformat_minor": 0,
  "metadata": {
    "colab": {
      "provenance": [],
      "authorship_tag": "ABX9TyOdYDU7VzZmNwfkRt26nZGS",
      "include_colab_link": true
    },
    "kernelspec": {
      "name": "python3",
      "display_name": "Python 3"
    },
    "language_info": {
      "name": "python"
    }
  },
  "cells": [
    {
      "cell_type": "markdown",
      "metadata": {
        "id": "view-in-github",
        "colab_type": "text"
      },
      "source": [
        "<a href=\"https://colab.research.google.com/github/deepak1195/NaturalLanguageProcessing/blob/main/017_ConditionalRandomField.ipynb\" target=\"_parent\"><img src=\"https://colab.research.google.com/assets/colab-badge.svg\" alt=\"Open In Colab\"/></a>"
      ]
    },
    {
      "cell_type": "code",
      "source": [
        "!pip install sklearn-crfsuite"
      ],
      "metadata": {
        "colab": {
          "base_uri": "https://localhost:8080/"
        },
        "id": "mzHRI3yWoXn7",
        "outputId": "4bf4f8e2-ab17-4b14-cfdf-c42dae8561ce"
      },
      "execution_count": 1,
      "outputs": [
        {
          "output_type": "stream",
          "name": "stdout",
          "text": [
            "Requirement already satisfied: sklearn-crfsuite in /usr/local/lib/python3.10/dist-packages (0.3.6)\n",
            "Requirement already satisfied: python-crfsuite>=0.8.3 in /usr/local/lib/python3.10/dist-packages (from sklearn-crfsuite) (0.9.9)\n",
            "Requirement already satisfied: six in /usr/local/lib/python3.10/dist-packages (from sklearn-crfsuite) (1.16.0)\n",
            "Requirement already satisfied: tabulate in /usr/local/lib/python3.10/dist-packages (from sklearn-crfsuite) (0.9.0)\n",
            "Requirement already satisfied: tqdm>=2.0 in /usr/local/lib/python3.10/dist-packages (from sklearn-crfsuite) (4.66.1)\n"
          ]
        }
      ]
    },
    {
      "cell_type": "code",
      "execution_count": 2,
      "metadata": {
        "id": "eW7HtAKpnrKo"
      },
      "outputs": [],
      "source": [
        "import nltk\n",
        "import sklearn_crfsuite\n",
        "from sklearn_crfsuite import metrics"
      ]
    },
    {
      "cell_type": "code",
      "source": [
        "nltk.download('treebank')"
      ],
      "metadata": {
        "colab": {
          "base_uri": "https://localhost:8080/"
        },
        "id": "H3-zMOUlozWa",
        "outputId": "6a4be620-75ff-43df-ff86-dfe555e45ae1"
      },
      "execution_count": 3,
      "outputs": [
        {
          "output_type": "stream",
          "name": "stderr",
          "text": [
            "[nltk_data] Downloading package treebank to /root/nltk_data...\n",
            "[nltk_data]   Package treebank is already up-to-date!\n"
          ]
        },
        {
          "output_type": "execute_result",
          "data": {
            "text/plain": [
              "True"
            ]
          },
          "metadata": {},
          "execution_count": 3
        }
      ]
    },
    {
      "cell_type": "code",
      "source": [
        "corpus=nltk.corpus.treebank.tagged_sents()\n",
        "corpus"
      ],
      "metadata": {
        "colab": {
          "base_uri": "https://localhost:8080/"
        },
        "id": "6ZB7l77noL_z",
        "outputId": "9ef5ca8f-e642-4258-9bb4-b63be01df5db"
      },
      "execution_count": 4,
      "outputs": [
        {
          "output_type": "execute_result",
          "data": {
            "text/plain": [
              "[[('Pierre', 'NNP'), ('Vinken', 'NNP'), (',', ','), ('61', 'CD'), ('years', 'NNS'), ('old', 'JJ'), (',', ','), ('will', 'MD'), ('join', 'VB'), ('the', 'DT'), ('board', 'NN'), ('as', 'IN'), ('a', 'DT'), ('nonexecutive', 'JJ'), ('director', 'NN'), ('Nov.', 'NNP'), ('29', 'CD'), ('.', '.')], [('Mr.', 'NNP'), ('Vinken', 'NNP'), ('is', 'VBZ'), ('chairman', 'NN'), ('of', 'IN'), ('Elsevier', 'NNP'), ('N.V.', 'NNP'), (',', ','), ('the', 'DT'), ('Dutch', 'NNP'), ('publishing', 'VBG'), ('group', 'NN'), ('.', '.')], ...]"
            ]
          },
          "metadata": {},
          "execution_count": 4
        }
      ]
    },
    {
      "cell_type": "code",
      "source": [
        "def wFeatures(sent, i):\n",
        "    word = sent[i][0]\n",
        "    features = {\n",
        "        'word': word,\n",
        "        'is_first': i == 0, #if the word is a first word\n",
        "        'is_last': i == len(sent) - 1,  #if the word is a last word\n",
        "        'is_capitalized': word[0].upper() == word[0],\n",
        "        'is_all_caps': word.upper() == word,      #word is in uppercase\n",
        "        'is_all_lower': word.lower() == word,      #word is in lowercase\n",
        "         #prefix of the word\n",
        "        'prefix-1': word[0],\n",
        "        'prefix-2': word[:2],\n",
        "        'prefix-3': word[:3],\n",
        "         #suffix of the word\n",
        "        'suffix-1': word[-1],\n",
        "        'suffix-2': word[-2:],\n",
        "        'suffix-3': word[-3:],\n",
        "         #extracting previous word\n",
        "        'prev_word': '' if i == 0 else sent[i-1][0],\n",
        "         #extracting next word\n",
        "        'next_word': '' if i == len(sent)-1 else sent[i+1][0],\n",
        "        'has_hyphen': '-' in word,    #if word has hypen\n",
        "        'is_numeric': word.isdigit(),  #if word is in numeric\n",
        "        'capitals_inside': word[1:].lower() != word[1:]\n",
        "    }\n",
        "    return features"
      ],
      "metadata": {
        "id": "OvBs2p3novHs"
      },
      "execution_count": 5,
      "outputs": []
    },
    {
      "cell_type": "code",
      "source": [
        "X = []\n",
        "Y = []\n",
        "for sent in corpus:\n",
        "    # print(sent)\n",
        "    xSentence = []\n",
        "    ySentence = []\n",
        "    for i in range(len(sent)):\n",
        "        xSentence.append(wFeatures(sent, i))\n",
        "        # print(xSentence[i])\n",
        "        ySentence.append(sent[i][1])\n",
        "        # print(ySentence[i])\n",
        "    X.append(xSentence)\n",
        "    # print(X)\n",
        "    Y.append(ySentence)\n",
        "    # print(Y)\n",
        "    # input()"
      ],
      "metadata": {
        "id": "Nimv-g_LpQge"
      },
      "execution_count": 6,
      "outputs": []
    },
    {
      "cell_type": "code",
      "source": [
        "X[0]"
      ],
      "metadata": {
        "colab": {
          "base_uri": "https://localhost:8080/"
        },
        "id": "GuRGN_Jwtosx",
        "outputId": "54142786-3230-4858-e449-e26101ae964e"
      },
      "execution_count": 7,
      "outputs": [
        {
          "output_type": "execute_result",
          "data": {
            "text/plain": [
              "[{'word': 'Pierre',\n",
              "  'is_first': True,\n",
              "  'is_last': False,\n",
              "  'is_capitalized': True,\n",
              "  'is_all_caps': False,\n",
              "  'is_all_lower': False,\n",
              "  'prefix-1': 'P',\n",
              "  'prefix-2': 'Pi',\n",
              "  'prefix-3': 'Pie',\n",
              "  'suffix-1': 'e',\n",
              "  'suffix-2': 're',\n",
              "  'suffix-3': 'rre',\n",
              "  'prev_word': '',\n",
              "  'next_word': 'Vinken',\n",
              "  'has_hyphen': False,\n",
              "  'is_numeric': False,\n",
              "  'capitals_inside': False},\n",
              " {'word': 'Vinken',\n",
              "  'is_first': False,\n",
              "  'is_last': False,\n",
              "  'is_capitalized': True,\n",
              "  'is_all_caps': False,\n",
              "  'is_all_lower': False,\n",
              "  'prefix-1': 'V',\n",
              "  'prefix-2': 'Vi',\n",
              "  'prefix-3': 'Vin',\n",
              "  'suffix-1': 'n',\n",
              "  'suffix-2': 'en',\n",
              "  'suffix-3': 'ken',\n",
              "  'prev_word': 'Pierre',\n",
              "  'next_word': ',',\n",
              "  'has_hyphen': False,\n",
              "  'is_numeric': False,\n",
              "  'capitals_inside': False},\n",
              " {'word': ',',\n",
              "  'is_first': False,\n",
              "  'is_last': False,\n",
              "  'is_capitalized': True,\n",
              "  'is_all_caps': True,\n",
              "  'is_all_lower': True,\n",
              "  'prefix-1': ',',\n",
              "  'prefix-2': ',',\n",
              "  'prefix-3': ',',\n",
              "  'suffix-1': ',',\n",
              "  'suffix-2': ',',\n",
              "  'suffix-3': ',',\n",
              "  'prev_word': 'Vinken',\n",
              "  'next_word': '61',\n",
              "  'has_hyphen': False,\n",
              "  'is_numeric': False,\n",
              "  'capitals_inside': False},\n",
              " {'word': '61',\n",
              "  'is_first': False,\n",
              "  'is_last': False,\n",
              "  'is_capitalized': True,\n",
              "  'is_all_caps': True,\n",
              "  'is_all_lower': True,\n",
              "  'prefix-1': '6',\n",
              "  'prefix-2': '61',\n",
              "  'prefix-3': '61',\n",
              "  'suffix-1': '1',\n",
              "  'suffix-2': '61',\n",
              "  'suffix-3': '61',\n",
              "  'prev_word': ',',\n",
              "  'next_word': 'years',\n",
              "  'has_hyphen': False,\n",
              "  'is_numeric': True,\n",
              "  'capitals_inside': False},\n",
              " {'word': 'years',\n",
              "  'is_first': False,\n",
              "  'is_last': False,\n",
              "  'is_capitalized': False,\n",
              "  'is_all_caps': False,\n",
              "  'is_all_lower': True,\n",
              "  'prefix-1': 'y',\n",
              "  'prefix-2': 'ye',\n",
              "  'prefix-3': 'yea',\n",
              "  'suffix-1': 's',\n",
              "  'suffix-2': 'rs',\n",
              "  'suffix-3': 'ars',\n",
              "  'prev_word': '61',\n",
              "  'next_word': 'old',\n",
              "  'has_hyphen': False,\n",
              "  'is_numeric': False,\n",
              "  'capitals_inside': False},\n",
              " {'word': 'old',\n",
              "  'is_first': False,\n",
              "  'is_last': False,\n",
              "  'is_capitalized': False,\n",
              "  'is_all_caps': False,\n",
              "  'is_all_lower': True,\n",
              "  'prefix-1': 'o',\n",
              "  'prefix-2': 'ol',\n",
              "  'prefix-3': 'old',\n",
              "  'suffix-1': 'd',\n",
              "  'suffix-2': 'ld',\n",
              "  'suffix-3': 'old',\n",
              "  'prev_word': 'years',\n",
              "  'next_word': ',',\n",
              "  'has_hyphen': False,\n",
              "  'is_numeric': False,\n",
              "  'capitals_inside': False},\n",
              " {'word': ',',\n",
              "  'is_first': False,\n",
              "  'is_last': False,\n",
              "  'is_capitalized': True,\n",
              "  'is_all_caps': True,\n",
              "  'is_all_lower': True,\n",
              "  'prefix-1': ',',\n",
              "  'prefix-2': ',',\n",
              "  'prefix-3': ',',\n",
              "  'suffix-1': ',',\n",
              "  'suffix-2': ',',\n",
              "  'suffix-3': ',',\n",
              "  'prev_word': 'old',\n",
              "  'next_word': 'will',\n",
              "  'has_hyphen': False,\n",
              "  'is_numeric': False,\n",
              "  'capitals_inside': False},\n",
              " {'word': 'will',\n",
              "  'is_first': False,\n",
              "  'is_last': False,\n",
              "  'is_capitalized': False,\n",
              "  'is_all_caps': False,\n",
              "  'is_all_lower': True,\n",
              "  'prefix-1': 'w',\n",
              "  'prefix-2': 'wi',\n",
              "  'prefix-3': 'wil',\n",
              "  'suffix-1': 'l',\n",
              "  'suffix-2': 'll',\n",
              "  'suffix-3': 'ill',\n",
              "  'prev_word': ',',\n",
              "  'next_word': 'join',\n",
              "  'has_hyphen': False,\n",
              "  'is_numeric': False,\n",
              "  'capitals_inside': False},\n",
              " {'word': 'join',\n",
              "  'is_first': False,\n",
              "  'is_last': False,\n",
              "  'is_capitalized': False,\n",
              "  'is_all_caps': False,\n",
              "  'is_all_lower': True,\n",
              "  'prefix-1': 'j',\n",
              "  'prefix-2': 'jo',\n",
              "  'prefix-3': 'joi',\n",
              "  'suffix-1': 'n',\n",
              "  'suffix-2': 'in',\n",
              "  'suffix-3': 'oin',\n",
              "  'prev_word': 'will',\n",
              "  'next_word': 'the',\n",
              "  'has_hyphen': False,\n",
              "  'is_numeric': False,\n",
              "  'capitals_inside': False},\n",
              " {'word': 'the',\n",
              "  'is_first': False,\n",
              "  'is_last': False,\n",
              "  'is_capitalized': False,\n",
              "  'is_all_caps': False,\n",
              "  'is_all_lower': True,\n",
              "  'prefix-1': 't',\n",
              "  'prefix-2': 'th',\n",
              "  'prefix-3': 'the',\n",
              "  'suffix-1': 'e',\n",
              "  'suffix-2': 'he',\n",
              "  'suffix-3': 'the',\n",
              "  'prev_word': 'join',\n",
              "  'next_word': 'board',\n",
              "  'has_hyphen': False,\n",
              "  'is_numeric': False,\n",
              "  'capitals_inside': False},\n",
              " {'word': 'board',\n",
              "  'is_first': False,\n",
              "  'is_last': False,\n",
              "  'is_capitalized': False,\n",
              "  'is_all_caps': False,\n",
              "  'is_all_lower': True,\n",
              "  'prefix-1': 'b',\n",
              "  'prefix-2': 'bo',\n",
              "  'prefix-3': 'boa',\n",
              "  'suffix-1': 'd',\n",
              "  'suffix-2': 'rd',\n",
              "  'suffix-3': 'ard',\n",
              "  'prev_word': 'the',\n",
              "  'next_word': 'as',\n",
              "  'has_hyphen': False,\n",
              "  'is_numeric': False,\n",
              "  'capitals_inside': False},\n",
              " {'word': 'as',\n",
              "  'is_first': False,\n",
              "  'is_last': False,\n",
              "  'is_capitalized': False,\n",
              "  'is_all_caps': False,\n",
              "  'is_all_lower': True,\n",
              "  'prefix-1': 'a',\n",
              "  'prefix-2': 'as',\n",
              "  'prefix-3': 'as',\n",
              "  'suffix-1': 's',\n",
              "  'suffix-2': 'as',\n",
              "  'suffix-3': 'as',\n",
              "  'prev_word': 'board',\n",
              "  'next_word': 'a',\n",
              "  'has_hyphen': False,\n",
              "  'is_numeric': False,\n",
              "  'capitals_inside': False},\n",
              " {'word': 'a',\n",
              "  'is_first': False,\n",
              "  'is_last': False,\n",
              "  'is_capitalized': False,\n",
              "  'is_all_caps': False,\n",
              "  'is_all_lower': True,\n",
              "  'prefix-1': 'a',\n",
              "  'prefix-2': 'a',\n",
              "  'prefix-3': 'a',\n",
              "  'suffix-1': 'a',\n",
              "  'suffix-2': 'a',\n",
              "  'suffix-3': 'a',\n",
              "  'prev_word': 'as',\n",
              "  'next_word': 'nonexecutive',\n",
              "  'has_hyphen': False,\n",
              "  'is_numeric': False,\n",
              "  'capitals_inside': False},\n",
              " {'word': 'nonexecutive',\n",
              "  'is_first': False,\n",
              "  'is_last': False,\n",
              "  'is_capitalized': False,\n",
              "  'is_all_caps': False,\n",
              "  'is_all_lower': True,\n",
              "  'prefix-1': 'n',\n",
              "  'prefix-2': 'no',\n",
              "  'prefix-3': 'non',\n",
              "  'suffix-1': 'e',\n",
              "  'suffix-2': 've',\n",
              "  'suffix-3': 'ive',\n",
              "  'prev_word': 'a',\n",
              "  'next_word': 'director',\n",
              "  'has_hyphen': False,\n",
              "  'is_numeric': False,\n",
              "  'capitals_inside': False},\n",
              " {'word': 'director',\n",
              "  'is_first': False,\n",
              "  'is_last': False,\n",
              "  'is_capitalized': False,\n",
              "  'is_all_caps': False,\n",
              "  'is_all_lower': True,\n",
              "  'prefix-1': 'd',\n",
              "  'prefix-2': 'di',\n",
              "  'prefix-3': 'dir',\n",
              "  'suffix-1': 'r',\n",
              "  'suffix-2': 'or',\n",
              "  'suffix-3': 'tor',\n",
              "  'prev_word': 'nonexecutive',\n",
              "  'next_word': 'Nov.',\n",
              "  'has_hyphen': False,\n",
              "  'is_numeric': False,\n",
              "  'capitals_inside': False},\n",
              " {'word': 'Nov.',\n",
              "  'is_first': False,\n",
              "  'is_last': False,\n",
              "  'is_capitalized': True,\n",
              "  'is_all_caps': False,\n",
              "  'is_all_lower': False,\n",
              "  'prefix-1': 'N',\n",
              "  'prefix-2': 'No',\n",
              "  'prefix-3': 'Nov',\n",
              "  'suffix-1': '.',\n",
              "  'suffix-2': 'v.',\n",
              "  'suffix-3': 'ov.',\n",
              "  'prev_word': 'director',\n",
              "  'next_word': '29',\n",
              "  'has_hyphen': False,\n",
              "  'is_numeric': False,\n",
              "  'capitals_inside': False},\n",
              " {'word': '29',\n",
              "  'is_first': False,\n",
              "  'is_last': False,\n",
              "  'is_capitalized': True,\n",
              "  'is_all_caps': True,\n",
              "  'is_all_lower': True,\n",
              "  'prefix-1': '2',\n",
              "  'prefix-2': '29',\n",
              "  'prefix-3': '29',\n",
              "  'suffix-1': '9',\n",
              "  'suffix-2': '29',\n",
              "  'suffix-3': '29',\n",
              "  'prev_word': 'Nov.',\n",
              "  'next_word': '.',\n",
              "  'has_hyphen': False,\n",
              "  'is_numeric': True,\n",
              "  'capitals_inside': False},\n",
              " {'word': '.',\n",
              "  'is_first': False,\n",
              "  'is_last': True,\n",
              "  'is_capitalized': True,\n",
              "  'is_all_caps': True,\n",
              "  'is_all_lower': True,\n",
              "  'prefix-1': '.',\n",
              "  'prefix-2': '.',\n",
              "  'prefix-3': '.',\n",
              "  'suffix-1': '.',\n",
              "  'suffix-2': '.',\n",
              "  'suffix-3': '.',\n",
              "  'prev_word': '29',\n",
              "  'next_word': '',\n",
              "  'has_hyphen': False,\n",
              "  'is_numeric': False,\n",
              "  'capitals_inside': False}]"
            ]
          },
          "metadata": {},
          "execution_count": 7
        }
      ]
    },
    {
      "cell_type": "code",
      "source": [
        "Y[0]"
      ],
      "metadata": {
        "colab": {
          "base_uri": "https://localhost:8080/"
        },
        "id": "BqJKEGTQto64",
        "outputId": "7b0446f8-5409-4225-9ea2-533146543e7a"
      },
      "execution_count": 8,
      "outputs": [
        {
          "output_type": "execute_result",
          "data": {
            "text/plain": [
              "['NNP',\n",
              " 'NNP',\n",
              " ',',\n",
              " 'CD',\n",
              " 'NNS',\n",
              " 'JJ',\n",
              " ',',\n",
              " 'MD',\n",
              " 'VB',\n",
              " 'DT',\n",
              " 'NN',\n",
              " 'IN',\n",
              " 'DT',\n",
              " 'JJ',\n",
              " 'NN',\n",
              " 'NNP',\n",
              " 'CD',\n",
              " '.']"
            ]
          },
          "metadata": {},
          "execution_count": 8
        }
      ]
    },
    {
      "cell_type": "code",
      "source": [
        "# Split the data into training and testing sets\n",
        "split = int(0.8 * len(X))\n",
        "X_train = X[:split]\n",
        "y_train = Y[:split]\n",
        "X_test = X[split:]\n",
        "y_test = Y[split:]"
      ],
      "metadata": {
        "id": "FufKRiLRqEyh"
      },
      "execution_count": 9,
      "outputs": []
    },
    {
      "cell_type": "code",
      "source": [
        "crf = sklearn_crfsuite.CRF(\n",
        "    algorithm='lbfgs',\n",
        "    c1=0.1,\n",
        "    c2=0.1,\n",
        "    max_iterations=100,\n",
        "    all_possible_transitions=True\n",
        ")\n",
        "try:\n",
        "    crf.fit(X_train, y_train)\n",
        "except AttributeError:\n",
        "    pass"
      ],
      "metadata": {
        "id": "o3oDIyUnrf2o"
      },
      "execution_count": 10,
      "outputs": []
    },
    {
      "cell_type": "code",
      "source": [
        "y_pred = crf.predict(X_test)\n",
        "metrics.flat_accuracy_score(y_test, y_pred)"
      ],
      "metadata": {
        "colab": {
          "base_uri": "https://localhost:8080/"
        },
        "id": "1fsv4ro9rnKT",
        "outputId": "4a8e398a-2f18-4911-877e-d5696529f424"
      },
      "execution_count": 11,
      "outputs": [
        {
          "output_type": "execute_result",
          "data": {
            "text/plain": [
              "0.9632716203403363"
            ]
          },
          "metadata": {},
          "execution_count": 11
        }
      ]
    },
    {
      "cell_type": "code",
      "source": [],
      "metadata": {
        "id": "-KO9HPhnsyiT"
      },
      "execution_count": 11,
      "outputs": []
    }
  ]
}