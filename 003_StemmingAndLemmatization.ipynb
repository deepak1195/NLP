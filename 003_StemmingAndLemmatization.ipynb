{
  "nbformat": 4,
  "nbformat_minor": 0,
  "metadata": {
    "colab": {
      "provenance": [],
      "authorship_tag": "ABX9TyMZiRPlZHQsEC42QtSwWYkS",
      "include_colab_link": true
    },
    "kernelspec": {
      "name": "python3",
      "display_name": "Python 3"
    },
    "language_info": {
      "name": "python"
    }
  },
  "cells": [
    {
      "cell_type": "markdown",
      "metadata": {
        "id": "view-in-github",
        "colab_type": "text"
      },
      "source": [
        "<a href=\"https://colab.research.google.com/github/deepak1195/NLP_Using_Spacy/blob/main/003_StemmingAndLemmatization.ipynb\" target=\"_parent\"><img src=\"https://colab.research.google.com/assets/colab-badge.svg\" alt=\"Open In Colab\"/></a>"
      ]
    },
    {
      "cell_type": "code",
      "execution_count": 29,
      "metadata": {
        "id": "1RWjL0KZOfF7"
      },
      "outputs": [],
      "source": [
        "import nltk\n",
        "import spacy"
      ]
    },
    {
      "cell_type": "markdown",
      "source": [
        "### Stemming Using NLTK"
      ],
      "metadata": {
        "id": "UJrbvFl3QJT5"
      }
    },
    {
      "cell_type": "code",
      "source": [
        "from nltk.stem import PorterStemmer\n",
        "stemmer = PorterStemmer()"
      ],
      "metadata": {
        "id": "ooiMdDcjO2Ln"
      },
      "execution_count": 30,
      "outputs": []
    },
    {
      "cell_type": "code",
      "source": [
        "words=['rocks','underlying','overlaying','overlapping','coextensive','coinciding','intersecting','coterminous','better','Bro','Brah']\n",
        "\n",
        "for wr in words:\n",
        "  print(f\"{wr} --> {stemmer.stem(wr)}\")"
      ],
      "metadata": {
        "colab": {
          "base_uri": "https://localhost:8080/"
        },
        "id": "UyqFZeoZPDm-",
        "outputId": "0d93a7a6-c9d2-4e33-a0c1-c37bfd12a434"
      },
      "execution_count": 31,
      "outputs": [
        {
          "output_type": "stream",
          "name": "stdout",
          "text": [
            "rocks --> rock\n",
            "underlying --> underli\n",
            "overlaying --> overlay\n",
            "overlapping --> overlap\n",
            "coextensive --> coextens\n",
            "coinciding --> coincid\n",
            "intersecting --> intersect\n",
            "coterminous --> cotermin\n",
            "better --> better\n",
            "Bro --> bro\n",
            "Brah --> brah\n"
          ]
        }
      ]
    },
    {
      "cell_type": "markdown",
      "source": [
        "### Lemmatization Using NLTK"
      ],
      "metadata": {
        "id": "OZ02SZa7RtIK"
      }
    },
    {
      "cell_type": "code",
      "source": [
        "nltk.download('wordnet')\n",
        "from nltk.stem import WordNetLemmatizer\n",
        "lemm = WordNetLemmatizer()"
      ],
      "metadata": {
        "colab": {
          "base_uri": "https://localhost:8080/"
        },
        "id": "DC_f3JCzRw6X",
        "outputId": "935d2d6a-c4b0-4d53-c614-1901a2928bb0"
      },
      "execution_count": 32,
      "outputs": [
        {
          "output_type": "stream",
          "name": "stderr",
          "text": [
            "[nltk_data] Downloading package wordnet to /root/nltk_data...\n",
            "[nltk_data]   Package wordnet is already up-to-date!\n"
          ]
        }
      ]
    },
    {
      "cell_type": "code",
      "source": [
        "for wr in words:\n",
        "  print(f\"{wr} --> {lemm.lemmatize(wr)}\")"
      ],
      "metadata": {
        "colab": {
          "base_uri": "https://localhost:8080/"
        },
        "id": "7VSWhQHiSUzT",
        "outputId": "0fd01222-06a3-4aab-f8af-c8adb8dd6e94"
      },
      "execution_count": 33,
      "outputs": [
        {
          "output_type": "stream",
          "name": "stdout",
          "text": [
            "rocks --> rock\n",
            "underlying --> underlying\n",
            "overlaying --> overlaying\n",
            "overlapping --> overlapping\n",
            "coextensive --> coextensive\n",
            "coinciding --> coinciding\n",
            "intersecting --> intersecting\n",
            "coterminous --> coterminous\n",
            "better --> better\n",
            "Bro --> Bro\n",
            "Brah --> Brah\n"
          ]
        }
      ]
    },
    {
      "cell_type": "markdown",
      "source": [
        "### Lemmatization Using Spacy"
      ],
      "metadata": {
        "id": "N6bQDITQQQrU"
      }
    },
    {
      "cell_type": "code",
      "source": [
        "spNlp=spacy.load(\"en_core_web_sm\")\n",
        "doc=spNlp(' '.join(words))\n",
        "\n",
        "for tk in doc:\n",
        "  print(f\"{tk} --> {tk.lemma_}\")"
      ],
      "metadata": {
        "colab": {
          "base_uri": "https://localhost:8080/"
        },
        "id": "JKUIjlNPP_Gd",
        "outputId": "0f7d1991-6c25-435b-e377-8c0217e77b93"
      },
      "execution_count": 34,
      "outputs": [
        {
          "output_type": "stream",
          "name": "stdout",
          "text": [
            "rocks --> rock\n",
            "underlying --> underlie\n",
            "overlaying --> overlay\n",
            "overlapping --> overlap\n",
            "coextensive --> coextensive\n",
            "coinciding --> coinciding\n",
            "intersecting --> intersect\n",
            "coterminous --> coterminous\n",
            "better --> well\n",
            "Bro --> Bro\n",
            "Brah --> Brah\n"
          ]
        }
      ]
    },
    {
      "cell_type": "markdown",
      "source": [
        "### Customize Spacy for Lemmatization"
      ],
      "metadata": {
        "id": "eTVUd0OdTdXr"
      }
    },
    {
      "cell_type": "code",
      "source": [
        "spNlp.pipe_names"
      ],
      "metadata": {
        "colab": {
          "base_uri": "https://localhost:8080/"
        },
        "id": "YwC5Ihz8Tb4u",
        "outputId": "5eb07a28-32f5-4034-8aa0-733e73acd609"
      },
      "execution_count": 35,
      "outputs": [
        {
          "output_type": "execute_result",
          "data": {
            "text/plain": [
              "['tok2vec', 'tagger', 'parser', 'attribute_ruler', 'lemmatizer', 'ner']"
            ]
          },
          "metadata": {},
          "execution_count": 35
        }
      ]
    },
    {
      "cell_type": "code",
      "source": [
        "ar=spNlp.get_pipe('attribute_ruler')\n",
        "ar.add([[{\"TEXT\":'Bro'}],[{\"TEXT\":'Brah'}]],{\"LEMA\":'Brother'})\n",
        "doc1=spNlp(' '.join(words))\n",
        "for tk in doc1:\n",
        "  print(f\"{tk} --> {tk.lemma_}\")"
      ],
      "metadata": {
        "colab": {
          "base_uri": "https://localhost:8080/"
        },
        "id": "GjwpG775Qy_D",
        "outputId": "3bcf2d49-f36b-48f0-c6ce-ccb6e23501bb"
      },
      "execution_count": 36,
      "outputs": [
        {
          "output_type": "stream",
          "name": "stdout",
          "text": [
            "rocks --> rock\n",
            "underlying --> underlie\n",
            "overlaying --> overlay\n",
            "overlapping --> overlap\n",
            "coextensive --> coextensive\n",
            "coinciding --> coinciding\n",
            "intersecting --> intersect\n",
            "coterminous --> coterminous\n",
            "better --> well\n",
            "Bro --> Bro\n",
            "Brah --> Brah\n"
          ]
        }
      ]
    },
    {
      "cell_type": "code",
      "source": [
        "\n"
      ],
      "metadata": {
        "id": "I3K9eVMYVA3F"
      },
      "execution_count": null,
      "outputs": []
    }
  ]
}