{
  "nbformat": 4,
  "nbformat_minor": 0,
  "metadata": {
    "colab": {
      "provenance": [],
      "authorship_tag": "ABX9TyNXZukwk3hIk/S0CJf7Q4AK",
      "include_colab_link": true
    },
    "kernelspec": {
      "name": "python3",
      "display_name": "Python 3"
    },
    "language_info": {
      "name": "python"
    }
  },
  "cells": [
    {
      "cell_type": "markdown",
      "metadata": {
        "id": "view-in-github",
        "colab_type": "text"
      },
      "source": [
        "<a href=\"https://colab.research.google.com/github/deepak1195/NLP_Using_Spacy/blob/main/003_StemmingAndLemmatization.ipynb\" target=\"_parent\"><img src=\"https://colab.research.google.com/assets/colab-badge.svg\" alt=\"Open In Colab\"/></a>"
      ]
    },
    {
      "cell_type": "code",
      "execution_count": 1,
      "metadata": {
        "id": "1RWjL0KZOfF7"
      },
      "outputs": [],
      "source": [
        "import nltk\n",
        "import spacy"
      ]
    },
    {
      "cell_type": "markdown",
      "source": [
        "### Stemming Using NLTK"
      ],
      "metadata": {
        "id": "UJrbvFl3QJT5"
      }
    },
    {
      "cell_type": "code",
      "source": [
        "from nltk.stem import PorterStemmer\n",
        "stemmer = PorterStemmer()"
      ],
      "metadata": {
        "id": "ooiMdDcjO2Ln"
      },
      "execution_count": 2,
      "outputs": []
    },
    {
      "cell_type": "code",
      "source": [
        "words=['rocks','underlying','overlaying','overlapping','coextensive','coinciding','intersecting','coterminous','better','Bro','Brah']\n",
        "\n",
        "for wr in words:\n",
        "  print(f\"{wr} --> {stemmer.stem(wr)}\")"
      ],
      "metadata": {
        "colab": {
          "base_uri": "https://localhost:8080/"
        },
        "id": "UyqFZeoZPDm-",
        "outputId": "55d12cec-027f-4138-b2cc-d37cf28b1ad4"
      },
      "execution_count": 3,
      "outputs": [
        {
          "output_type": "stream",
          "name": "stdout",
          "text": [
            "rocks --> rock\n",
            "underlying --> underli\n",
            "overlaying --> overlay\n",
            "overlapping --> overlap\n",
            "coextensive --> coextens\n",
            "coinciding --> coincid\n",
            "intersecting --> intersect\n",
            "coterminous --> cotermin\n",
            "better --> better\n",
            "Bro --> bro\n",
            "Brah --> brah\n"
          ]
        }
      ]
    },
    {
      "cell_type": "markdown",
      "source": [
        "### Lemmatization Using NLTK"
      ],
      "metadata": {
        "id": "OZ02SZa7RtIK"
      }
    },
    {
      "cell_type": "code",
      "source": [
        "nltk.download('wordnet')\n",
        "from nltk.stem import WordNetLemmatizer\n",
        "lemm = WordNetLemmatizer()"
      ],
      "metadata": {
        "colab": {
          "base_uri": "https://localhost:8080/"
        },
        "id": "DC_f3JCzRw6X",
        "outputId": "22ab8b5d-4233-4303-9383-054eaeff4ec4"
      },
      "execution_count": 4,
      "outputs": [
        {
          "output_type": "stream",
          "name": "stderr",
          "text": [
            "[nltk_data] Downloading package wordnet to /root/nltk_data...\n",
            "[nltk_data]   Package wordnet is already up-to-date!\n"
          ]
        }
      ]
    },
    {
      "cell_type": "code",
      "source": [
        "for wr in words:\n",
        "  print(f\"{wr} --> {lemm.lemmatize(wr)}\")"
      ],
      "metadata": {
        "colab": {
          "base_uri": "https://localhost:8080/"
        },
        "id": "7VSWhQHiSUzT",
        "outputId": "d9e6dc1b-c535-42c9-9108-2f6e768f2399"
      },
      "execution_count": 5,
      "outputs": [
        {
          "output_type": "stream",
          "name": "stdout",
          "text": [
            "rocks --> rock\n",
            "underlying --> underlying\n",
            "overlaying --> overlaying\n",
            "overlapping --> overlapping\n",
            "coextensive --> coextensive\n",
            "coinciding --> coinciding\n",
            "intersecting --> intersecting\n",
            "coterminous --> coterminous\n",
            "better --> better\n",
            "Bro --> Bro\n",
            "Brah --> Brah\n"
          ]
        }
      ]
    },
    {
      "cell_type": "markdown",
      "source": [
        "### Lemmatization Using Spacy"
      ],
      "metadata": {
        "id": "N6bQDITQQQrU"
      }
    },
    {
      "cell_type": "code",
      "source": [
        "spNlp=spacy.load(\"en_core_web_sm\")\n",
        "doc=spNlp(' '.join(words))\n",
        "\n",
        "for tk in doc:\n",
        "  print(f\"{tk} --> {tk.lemma_}\")"
      ],
      "metadata": {
        "colab": {
          "base_uri": "https://localhost:8080/"
        },
        "id": "JKUIjlNPP_Gd",
        "outputId": "f499187b-363b-49af-e13e-1fa3303242d5"
      },
      "execution_count": 6,
      "outputs": [
        {
          "output_type": "stream",
          "name": "stdout",
          "text": [
            "rocks --> rock\n",
            "underlying --> underlie\n",
            "overlaying --> overlay\n",
            "overlapping --> overlap\n",
            "coextensive --> coextensive\n",
            "coinciding --> coinciding\n",
            "intersecting --> intersect\n",
            "coterminous --> coterminous\n",
            "better --> well\n",
            "Bro --> Bro\n",
            "Brah --> Brah\n"
          ]
        }
      ]
    },
    {
      "cell_type": "markdown",
      "source": [
        "### Customize Spacy for Lemmatization"
      ],
      "metadata": {
        "id": "eTVUd0OdTdXr"
      }
    },
    {
      "cell_type": "code",
      "source": [
        "spNlp.pipe_names"
      ],
      "metadata": {
        "colab": {
          "base_uri": "https://localhost:8080/"
        },
        "id": "YwC5Ihz8Tb4u",
        "outputId": "98d8b706-23df-4c6c-88a1-d19ce398874b"
      },
      "execution_count": 7,
      "outputs": [
        {
          "output_type": "execute_result",
          "data": {
            "text/plain": [
              "['tok2vec', 'tagger', 'parser', 'attribute_ruler', 'lemmatizer', 'ner']"
            ]
          },
          "metadata": {},
          "execution_count": 7
        }
      ]
    },
    {
      "cell_type": "code",
      "source": [
        "ar=spNlp.get_pipe('attribute_ruler')\n",
        "ar.add([[{\"TEXT\":\"Bro\"}],[{\"TEXT\":\"Brah\"}]],{\"LEMMA\":\"Brother\"})\n",
        "\n",
        "doc1=spNlp(' '.join(words))\n",
        "for tk in doc1:\n",
        "  print(f\"{tk.text} --> {tk.lemma_}\")"
      ],
      "metadata": {
        "colab": {
          "base_uri": "https://localhost:8080/"
        },
        "id": "GjwpG775Qy_D",
        "outputId": "0b20d2ba-03a4-47db-acdd-5302f641f2af"
      },
      "execution_count": 8,
      "outputs": [
        {
          "output_type": "stream",
          "name": "stdout",
          "text": [
            "rocks --> rock\n",
            "underlying --> underlie\n",
            "overlaying --> overlay\n",
            "overlapping --> overlap\n",
            "coextensive --> coextensive\n",
            "coinciding --> coinciding\n",
            "intersecting --> intersect\n",
            "coterminous --> coterminous\n",
            "better --> well\n",
            "Bro --> Brother\n",
            "Brah --> Brother\n"
          ]
        }
      ]
    },
    {
      "cell_type": "code",
      "source": [
        "\n"
      ],
      "metadata": {
        "id": "I3K9eVMYVA3F"
      },
      "execution_count": 8,
      "outputs": []
    }
  ]
}