{
  "cells": [
    {
      "cell_type": "markdown",
      "metadata": {
        "id": "view-in-github",
        "colab_type": "text"
      },
      "source": [
        "<a href=\"https://colab.research.google.com/github/deepak1195/NaturalLanguageProcessing/blob/main/015_FastText.ipynb\" target=\"_parent\"><img src=\"https://colab.research.google.com/assets/colab-badge.svg\" alt=\"Open In Colab\"/></a>"
      ]
    },
    {
      "cell_type": "code",
      "execution_count": null,
      "id": "152f48a9",
      "metadata": {
        "id": "152f48a9",
        "outputId": "e73affcf-bd61-4d8b-d7bd-5bb0ef65fbc0"
      },
      "outputs": [
        {
          "name": "stdout",
          "output_type": "stream",
          "text": [
            "Cloning into 'fastText'...\n",
            "remote: Enumerating objects: 3946, done.\u001b[K\n",
            "remote: Counting objects: 100% (980/980), done.\u001b[K\n",
            "remote: Compressing objects: 100% (151/151), done.\u001b[K\n",
            "remote: Total 3946 (delta 878), reused 839 (delta 828), pack-reused 2966\u001b[K\n",
            "Receiving objects: 100% (3946/3946), 8.25 MiB | 6.20 MiB/s, done.\n",
            "Resolving deltas: 100% (2510/2510), done.\n",
            "Collecting fastText\n",
            "  Downloading fasttext-0.9.2.tar.gz (68 kB)\n",
            "\u001b[2K     \u001b[38;2;114;156;31m━━━━━━━━━━━━━━━━━━━━━━━━━━━━━━━━━━━━━━━━\u001b[0m \u001b[32m68.8/68.8 kB\u001b[0m \u001b[31m4.7 MB/s\u001b[0m eta \u001b[36m0:00:00\u001b[0m\n",
            "\u001b[?25h  Preparing metadata (setup.py) ... \u001b[?25ldone\n",
            "\u001b[?25hCollecting pybind11>=2.2 (from fastText)\n",
            "  Using cached pybind11-2.11.1-py3-none-any.whl (227 kB)\n",
            "Requirement already satisfied: setuptools>=0.7.0 in /home/deepakkumar/anaconda3/lib/python3.8/site-packages (from fastText) (52.0.0.post20210125)\n",
            "Requirement already satisfied: numpy in /home/deepakkumar/anaconda3/lib/python3.8/site-packages (from fastText) (1.23.5)\n",
            "Building wheels for collected packages: fastText\n",
            "  Building wheel for fastText (setup.py) ... \u001b[?25ldone\n",
            "\u001b[?25h  Created wheel for fastText: filename=fasttext-0.9.2-cp38-cp38-linux_x86_64.whl size=3330403 sha256=1b374201f98bba608383d8e2535e26343903d0127cf6f4555cb05a7399a443ac\n",
            "  Stored in directory: /home/deepakkumar/.cache/pip/wheels/93/61/2a/c54711a91c418ba06ba195b1d78ff24fcaad8592f2a694ac94\n",
            "Successfully built fastText\n",
            "Installing collected packages: pybind11, fastText\n",
            "Successfully installed fastText-0.9.2 pybind11-2.11.1\n"
          ]
        }
      ],
      "source": [
        "!git clone https://github.com/facebookresearch/fastText.git\n",
        "!cd fastText\n",
        "!pip install fastText\n",
        "import fasttext"
      ]
    },
    {
      "cell_type": "code",
      "execution_count": null,
      "id": "74011ecd",
      "metadata": {
        "id": "74011ecd",
        "outputId": "eab58c46-c863-4a18-d320-a18ae5fd6ead"
      },
      "outputs": [
        {
          "name": "stderr",
          "output_type": "stream",
          "text": [
            "Warning : `load_model` does not return WordVectorModel or SupervisedModel any more, but a `FastText` object which is very similar.\n"
          ]
        }
      ],
      "source": [
        "modelEn=fasttext.load_model('/home/deepakkumar/Downloads/cc.en.300.bin')"
      ]
    },
    {
      "cell_type": "code",
      "execution_count": null,
      "id": "fe12a357",
      "metadata": {
        "id": "fe12a357",
        "outputId": "f880ddb3-c8b9-41d3-89fa-e26758e139e0"
      },
      "outputs": [
        {
          "data": {
            "text/plain": [
              "[(0.8192906379699707, 'Iphone'),\n",
              " (0.8019949793815613, 'ipad'),\n",
              " (0.793298065662384, 'iphone5'),\n",
              " (0.7885919809341431, 'iphone4s'),\n",
              " (0.7628859877586365, 'iphone.'),\n",
              " (0.7619691491127014, 'i-phone'),\n",
              " (0.7590339183807373, 'ipone'),\n",
              " (0.7493031024932861, 'iPhone'),\n",
              " (0.748425304889679, 'iphone5s'),\n",
              " (0.7472537159919739, 'iphone6')]"
            ]
          },
          "execution_count": 4,
          "metadata": {},
          "output_type": "execute_result"
        }
      ],
      "source": [
        "modelEn.get_nearest_neighbors(\"iphone\")"
      ]
    },
    {
      "cell_type": "code",
      "execution_count": null,
      "id": "f6eb94c5",
      "metadata": {
        "id": "f6eb94c5",
        "outputId": "ccd6959d-9a62-402b-e1ea-cb9bcf4b3818"
      },
      "outputs": [
        {
          "data": {
            "text/plain": [
              "[(0.824558436870575, 'shirts'),\n",
              " (0.8192515969276428, 't-shirt'),\n",
              " (0.8040512800216675, 'T-shirt'),\n",
              " (0.7909858226776123, 'tee-shirt'),\n",
              " (0.7845163345336914, 'tshirt'),\n",
              " (0.7676884531974792, 'shirt.This'),\n",
              " (0.7621535658836365, 'shirt.The'),\n",
              " (0.7537376284599304, 'shirt.And'),\n",
              " (0.7457085251808167, 'shirt.He'),\n",
              " (0.7407515048980713, 'shirt.I')]"
            ]
          },
          "execution_count": 5,
          "metadata": {},
          "output_type": "execute_result"
        }
      ],
      "source": [
        "modelEn.get_nearest_neighbors(\"shirt\")"
      ]
    },
    {
      "cell_type": "code",
      "execution_count": null,
      "id": "4aaccb0f",
      "metadata": {
        "id": "4aaccb0f",
        "outputId": "001b9124-a9f5-4742-a0a4-0a8a25b4154c"
      },
      "outputs": [
        {
          "data": {
            "text/plain": [
              "[(0.5569502711296082, 'Queen'),\n",
              " (0.5211430788040161, 'King'),\n",
              " (0.5209329724311829, 'queen'),\n",
              " (0.4469143748283386, 'kings'),\n",
              " (0.4344605803489685, 'Queen-'),\n",
              " (0.42281487584114075, 'Queen-mother'),\n",
              " (0.4213189482688904, '-Queen'),\n",
              " (0.41825881600379944, 'king-'),\n",
              " (0.4180954396724701, 'Crowned'),\n",
              " (0.4176540672779083, 'KIng')]"
            ]
          },
          "execution_count": 6,
          "metadata": {},
          "output_type": "execute_result"
        }
      ],
      "source": [
        "modelEn.get_analogies(\"king\",\"man\",\"Woman\")"
      ]
    },
    {
      "cell_type": "code",
      "execution_count": null,
      "id": "91c3c987",
      "metadata": {
        "id": "91c3c987",
        "outputId": "294989c4-fd54-4892-fa81-47b44f0ed01a"
      },
      "outputs": [
        {
          "data": {
            "text/plain": [
              "[(0.5302355885505676, 'reading'),\n",
              " (0.517051637172699, 'book.I'),\n",
              " (0.5137901306152344, 'book--and'),\n",
              " (0.5090512633323669, 'book.That'),\n",
              " (0.5005884766578674, 'book--it'),\n",
              " (0.49395182728767395, 'book--I'),\n",
              " (0.49293914437294006, 're-reading'),\n",
              " (0.49156999588012695, 'book.This'),\n",
              " (0.49107635021209717, 'reading--and'),\n",
              " (0.48960915207862854, 'book--the')]"
            ]
          },
          "execution_count": 12,
          "metadata": {},
          "output_type": "execute_result"
        }
      ],
      "source": [
        "modelEn.get_analogies(\"driving\",\"car\",\"book\")"
      ]
    },
    {
      "cell_type": "code",
      "execution_count": null,
      "id": "2bf783a4",
      "metadata": {
        "id": "2bf783a4"
      },
      "outputs": [],
      "source": [
        "import numpy as np\n",
        "import pandas as pd"
      ]
    },
    {
      "cell_type": "code",
      "execution_count": null,
      "id": "a5ab996b",
      "metadata": {
        "id": "a5ab996b",
        "outputId": "0bb4f842-72f8-489e-ca29-86f8f0b8e3c4"
      },
      "outputs": [
        {
          "data": {
            "text/html": [
              "<div>\n",
              "<style scoped>\n",
              "    .dataframe tbody tr th:only-of-type {\n",
              "        vertical-align: middle;\n",
              "    }\n",
              "\n",
              "    .dataframe tbody tr th {\n",
              "        vertical-align: top;\n",
              "    }\n",
              "\n",
              "    .dataframe thead th {\n",
              "        text-align: right;\n",
              "    }\n",
              "</style>\n",
              "<table border=\"1\" class=\"dataframe\">\n",
              "  <thead>\n",
              "    <tr style=\"text-align: right;\">\n",
              "      <th></th>\n",
              "      <th>TranslatedRecipeName</th>\n",
              "      <th>TranslatedIngredients</th>\n",
              "      <th>TotalTimeInMins</th>\n",
              "      <th>Cuisine</th>\n",
              "      <th>TranslatedInstructions</th>\n",
              "      <th>URL</th>\n",
              "      <th>Cleaned-Ingredients</th>\n",
              "      <th>image-url</th>\n",
              "      <th>Ingredient-count</th>\n",
              "    </tr>\n",
              "  </thead>\n",
              "  <tbody>\n",
              "    <tr>\n",
              "      <th>0</th>\n",
              "      <td>Masala Karela Recipe</td>\n",
              "      <td>1 tablespoon Red Chilli powder,3 tablespoon Gr...</td>\n",
              "      <td>45</td>\n",
              "      <td>Indian</td>\n",
              "      <td>To begin making the Masala Karela Recipe,de-se...</td>\n",
              "      <td>https://www.archanaskitchen.com/masala-karela-...</td>\n",
              "      <td>salt,amchur (dry mango powder),karela (bitter ...</td>\n",
              "      <td>https://www.archanaskitchen.com/images/archana...</td>\n",
              "      <td>10</td>\n",
              "    </tr>\n",
              "    <tr>\n",
              "      <th>1</th>\n",
              "      <td>Spicy Tomato Rice (Recipe)</td>\n",
              "      <td>2 teaspoon cashew - or peanuts, 1/2 Teaspoon ...</td>\n",
              "      <td>15</td>\n",
              "      <td>South Indian Recipes</td>\n",
              "      <td>To make tomato puliogere, first cut the tomato...</td>\n",
              "      <td>https://www.archanaskitchen.com/spicy-tomato-r...</td>\n",
              "      <td>tomato,salt,chickpea lentils,green chilli,rice...</td>\n",
              "      <td>https://www.archanaskitchen.com/images/archana...</td>\n",
              "      <td>12</td>\n",
              "    </tr>\n",
              "    <tr>\n",
              "      <th>2</th>\n",
              "      <td>Ragi Semiya Upma Recipe - Ragi Millet Vermicel...</td>\n",
              "      <td>1 Onion - sliced,1 teaspoon White Urad Dal (Sp...</td>\n",
              "      <td>50</td>\n",
              "      <td>South Indian Recipes</td>\n",
              "      <td>To begin making the Ragi Vermicelli Recipe, fi...</td>\n",
              "      <td>https://www.archanaskitchen.com/ragi-vermicell...</td>\n",
              "      <td>salt,rice vermicelli noodles (thin),asafoetida...</td>\n",
              "      <td>https://www.archanaskitchen.com/images/archana...</td>\n",
              "      <td>12</td>\n",
              "    </tr>\n",
              "    <tr>\n",
              "      <th>3</th>\n",
              "      <td>Gongura Chicken Curry Recipe - Andhra Style Go...</td>\n",
              "      <td>1/2 teaspoon Turmeric powder (Haldi),1 tablesp...</td>\n",
              "      <td>45</td>\n",
              "      <td>Andhra</td>\n",
              "      <td>To begin making Gongura Chicken Curry Recipe f...</td>\n",
              "      <td>https://www.archanaskitchen.com/gongura-chicke...</td>\n",
              "      <td>tomato,salt,ginger,sorrel leaves (gongura),fen...</td>\n",
              "      <td>https://www.archanaskitchen.com/images/archana...</td>\n",
              "      <td>15</td>\n",
              "    </tr>\n",
              "    <tr>\n",
              "      <th>4</th>\n",
              "      <td>Andhra Style Alam Pachadi Recipe - Adrak Chutn...</td>\n",
              "      <td>oil - as per use, 1 tablespoon coriander seed...</td>\n",
              "      <td>30</td>\n",
              "      <td>Andhra</td>\n",
              "      <td>To make Andhra Style Alam Pachadi, first heat ...</td>\n",
              "      <td>https://www.archanaskitchen.com/andhra-style-a...</td>\n",
              "      <td>tomato,salt,ginger,red chillies,curry,asafoeti...</td>\n",
              "      <td>https://www.archanaskitchen.com/images/archana...</td>\n",
              "      <td>12</td>\n",
              "    </tr>\n",
              "    <tr>\n",
              "      <th>...</th>\n",
              "      <td>...</td>\n",
              "      <td>...</td>\n",
              "      <td>...</td>\n",
              "      <td>...</td>\n",
              "      <td>...</td>\n",
              "      <td>...</td>\n",
              "      <td>...</td>\n",
              "      <td>...</td>\n",
              "      <td>...</td>\n",
              "    </tr>\n",
              "    <tr>\n",
              "      <th>5933</th>\n",
              "      <td>Saffron Paneer Peda Recipe</td>\n",
              "      <td>2 teaspoons Rose water,1/2 teaspoon Ghee,2 cup...</td>\n",
              "      <td>20</td>\n",
              "      <td>Indian</td>\n",
              "      <td>To begin making the Saffron Paneer Peda recipe...</td>\n",
              "      <td>https://www.archanaskitchen.com/saffron-paneer...</td>\n",
              "      <td>saffron strands generous,ghee,paneer,rose wate...</td>\n",
              "      <td>https://www.archanaskitchen.com/images/archana...</td>\n",
              "      <td>7</td>\n",
              "    </tr>\n",
              "    <tr>\n",
              "      <th>5934</th>\n",
              "      <td>Italian Arancini Rice Balls Recipe With Delici...</td>\n",
              "      <td>4 sprig Basil leaves - finely chopped,2 cups W...</td>\n",
              "      <td>100</td>\n",
              "      <td>Italian Recipes</td>\n",
              "      <td>To begin making the Italian Arancini Rice Ball...</td>\n",
              "      <td>https://www.archanaskitchen.com/italian-aranci...</td>\n",
              "      <td>salt,gorgonzola cheese cubes,wheat bread crumb...</td>\n",
              "      <td>https://www.archanaskitchen.com/images/archana...</td>\n",
              "      <td>14</td>\n",
              "    </tr>\n",
              "    <tr>\n",
              "      <th>5935</th>\n",
              "      <td>Quinoa Phirnee Recipe (Quinoa Milk Pudding)</td>\n",
              "      <td>3/4 cup Sugar,2 cup Milk - vegans can substitu...</td>\n",
              "      <td>35</td>\n",
              "      <td>Indian</td>\n",
              "      <td>To begin making Quinoa Phirnee Recipe, place a...</td>\n",
              "      <td>https://www.archanaskitchen.com/quinoa-phirnee...</td>\n",
              "      <td>ghee,milk,saffron strands,sugar,cardamom powde...</td>\n",
              "      <td>https://www.archanaskitchen.com/images/archana...</td>\n",
              "      <td>8</td>\n",
              "    </tr>\n",
              "    <tr>\n",
              "      <th>5936</th>\n",
              "      <td>Ullikadala Pulusu Recipe | Spring Onion Curry</td>\n",
              "      <td>1 pinch Turmeric powder (Haldi),1/2 teaspoon M...</td>\n",
              "      <td>15</td>\n",
              "      <td>Andhra</td>\n",
              "      <td>To begin making Ullikadala Pulusu Recipe | Spr...</td>\n",
              "      <td>https://www.archanaskitchen.com/ullikadala-pul...</td>\n",
              "      <td>salt,tamarind water,mustard seeds,asafoetida (...</td>\n",
              "      <td>https://www.archanaskitchen.com/images/archana...</td>\n",
              "      <td>13</td>\n",
              "    </tr>\n",
              "    <tr>\n",
              "      <th>5937</th>\n",
              "      <td>Kashmiri Style Kokur Yakhni Recipe-Chicken Coo...</td>\n",
              "      <td>Salt - as required,3 to 4 Cloves (Laung),Ghee ...</td>\n",
              "      <td>75</td>\n",
              "      <td>Kashmiri</td>\n",
              "      <td>To begin making the Kashmiri Kokur Yakhni reci...</td>\n",
              "      <td>https://www.archanaskitchen.com/kashmiri-kokur...</td>\n",
              "      <td>black cardamom (badi elaichi),salt,mustard oil...</td>\n",
              "      <td>https://www.archanaskitchen.com/images/archana...</td>\n",
              "      <td>13</td>\n",
              "    </tr>\n",
              "  </tbody>\n",
              "</table>\n",
              "<p>5938 rows × 9 columns</p>\n",
              "</div>"
            ],
            "text/plain": [
              "                                   TranslatedRecipeName  \\\n",
              "0                                  Masala Karela Recipe   \n",
              "1                            Spicy Tomato Rice (Recipe)   \n",
              "2     Ragi Semiya Upma Recipe - Ragi Millet Vermicel...   \n",
              "3     Gongura Chicken Curry Recipe - Andhra Style Go...   \n",
              "4     Andhra Style Alam Pachadi Recipe - Adrak Chutn...   \n",
              "...                                                 ...   \n",
              "5933                         Saffron Paneer Peda Recipe   \n",
              "5934  Italian Arancini Rice Balls Recipe With Delici...   \n",
              "5935        Quinoa Phirnee Recipe (Quinoa Milk Pudding)   \n",
              "5936      Ullikadala Pulusu Recipe | Spring Onion Curry   \n",
              "5937  Kashmiri Style Kokur Yakhni Recipe-Chicken Coo...   \n",
              "\n",
              "                                  TranslatedIngredients  TotalTimeInMins  \\\n",
              "0     1 tablespoon Red Chilli powder,3 tablespoon Gr...               45   \n",
              "1      2 teaspoon cashew - or peanuts, 1/2 Teaspoon ...               15   \n",
              "2     1 Onion - sliced,1 teaspoon White Urad Dal (Sp...               50   \n",
              "3     1/2 teaspoon Turmeric powder (Haldi),1 tablesp...               45   \n",
              "4      oil - as per use, 1 tablespoon coriander seed...               30   \n",
              "...                                                 ...              ...   \n",
              "5933  2 teaspoons Rose water,1/2 teaspoon Ghee,2 cup...               20   \n",
              "5934  4 sprig Basil leaves - finely chopped,2 cups W...              100   \n",
              "5935  3/4 cup Sugar,2 cup Milk - vegans can substitu...               35   \n",
              "5936  1 pinch Turmeric powder (Haldi),1/2 teaspoon M...               15   \n",
              "5937  Salt - as required,3 to 4 Cloves (Laung),Ghee ...               75   \n",
              "\n",
              "                   Cuisine                             TranslatedInstructions  \\\n",
              "0                   Indian  To begin making the Masala Karela Recipe,de-se...   \n",
              "1     South Indian Recipes  To make tomato puliogere, first cut the tomato...   \n",
              "2     South Indian Recipes  To begin making the Ragi Vermicelli Recipe, fi...   \n",
              "3                   Andhra  To begin making Gongura Chicken Curry Recipe f...   \n",
              "4                   Andhra  To make Andhra Style Alam Pachadi, first heat ...   \n",
              "...                    ...                                                ...   \n",
              "5933                Indian  To begin making the Saffron Paneer Peda recipe...   \n",
              "5934       Italian Recipes  To begin making the Italian Arancini Rice Ball...   \n",
              "5935                Indian  To begin making Quinoa Phirnee Recipe, place a...   \n",
              "5936                Andhra  To begin making Ullikadala Pulusu Recipe | Spr...   \n",
              "5937              Kashmiri  To begin making the Kashmiri Kokur Yakhni reci...   \n",
              "\n",
              "                                                    URL  \\\n",
              "0     https://www.archanaskitchen.com/masala-karela-...   \n",
              "1     https://www.archanaskitchen.com/spicy-tomato-r...   \n",
              "2     https://www.archanaskitchen.com/ragi-vermicell...   \n",
              "3     https://www.archanaskitchen.com/gongura-chicke...   \n",
              "4     https://www.archanaskitchen.com/andhra-style-a...   \n",
              "...                                                 ...   \n",
              "5933  https://www.archanaskitchen.com/saffron-paneer...   \n",
              "5934  https://www.archanaskitchen.com/italian-aranci...   \n",
              "5935  https://www.archanaskitchen.com/quinoa-phirnee...   \n",
              "5936  https://www.archanaskitchen.com/ullikadala-pul...   \n",
              "5937  https://www.archanaskitchen.com/kashmiri-kokur...   \n",
              "\n",
              "                                    Cleaned-Ingredients  \\\n",
              "0     salt,amchur (dry mango powder),karela (bitter ...   \n",
              "1     tomato,salt,chickpea lentils,green chilli,rice...   \n",
              "2     salt,rice vermicelli noodles (thin),asafoetida...   \n",
              "3     tomato,salt,ginger,sorrel leaves (gongura),fen...   \n",
              "4     tomato,salt,ginger,red chillies,curry,asafoeti...   \n",
              "...                                                 ...   \n",
              "5933  saffron strands generous,ghee,paneer,rose wate...   \n",
              "5934  salt,gorgonzola cheese cubes,wheat bread crumb...   \n",
              "5935  ghee,milk,saffron strands,sugar,cardamom powde...   \n",
              "5936  salt,tamarind water,mustard seeds,asafoetida (...   \n",
              "5937  black cardamom (badi elaichi),salt,mustard oil...   \n",
              "\n",
              "                                              image-url  Ingredient-count  \n",
              "0     https://www.archanaskitchen.com/images/archana...                10  \n",
              "1     https://www.archanaskitchen.com/images/archana...                12  \n",
              "2     https://www.archanaskitchen.com/images/archana...                12  \n",
              "3     https://www.archanaskitchen.com/images/archana...                15  \n",
              "4     https://www.archanaskitchen.com/images/archana...                12  \n",
              "...                                                 ...               ...  \n",
              "5933  https://www.archanaskitchen.com/images/archana...                 7  \n",
              "5934  https://www.archanaskitchen.com/images/archana...                14  \n",
              "5935  https://www.archanaskitchen.com/images/archana...                 8  \n",
              "5936  https://www.archanaskitchen.com/images/archana...                13  \n",
              "5937  https://www.archanaskitchen.com/images/archana...                13  \n",
              "\n",
              "[5938 rows x 9 columns]"
            ]
          },
          "execution_count": 14,
          "metadata": {},
          "output_type": "execute_result"
        }
      ],
      "source": [
        "df=pd.read_csv(\"Indian_Food_Dataset.csv\")\n",
        "df"
      ]
    },
    {
      "cell_type": "code",
      "execution_count": null,
      "id": "2ae23821",
      "metadata": {
        "id": "2ae23821",
        "outputId": "afbc65eb-8913-40bf-8131-7db46e66d093"
      },
      "outputs": [
        {
          "data": {
            "text/plain": [
              "0       To begin making the Masala Karela Recipe,de-se...\n",
              "1       To make tomato puliogere, first cut the tomato...\n",
              "2       To begin making the Ragi Vermicelli Recipe, fi...\n",
              "3       To begin making Gongura Chicken Curry Recipe f...\n",
              "4       To make Andhra Style Alam Pachadi, first heat ...\n",
              "                              ...                        \n",
              "5933    To begin making the Saffron Paneer Peda recipe...\n",
              "5934    To begin making the Italian Arancini Rice Ball...\n",
              "5935    To begin making Quinoa Phirnee Recipe, place a...\n",
              "5936    To begin making Ullikadala Pulusu Recipe | Spr...\n",
              "5937    To begin making the Kashmiri Kokur Yakhni reci...\n",
              "Name: TranslatedInstructions, Length: 5938, dtype: object"
            ]
          },
          "execution_count": 15,
          "metadata": {},
          "output_type": "execute_result"
        }
      ],
      "source": [
        "df.TranslatedInstructions"
      ]
    },
    {
      "cell_type": "code",
      "execution_count": null,
      "id": "309ab1f9",
      "metadata": {
        "id": "309ab1f9",
        "outputId": "9a500451-172d-4e67-cd66-dd990acdb54f"
      },
      "outputs": [
        {
          "data": {
            "text/plain": [
              "0       to begin making the masala karela recipe de se...\n",
              "1       to make tomato puliogere  first cut the tomato...\n",
              "2       to begin making the ragi vermicelli recipe  fi...\n",
              "3       to begin making gongura chicken curry recipe f...\n",
              "4       to make andhra style alam pachadi  first heat ...\n",
              "                              ...                        \n",
              "5933    to begin making the saffron paneer peda recipe...\n",
              "5934    to begin making the italian arancini rice ball...\n",
              "5935    to begin making quinoa phirnee recipe  place a...\n",
              "5936    to begin making ullikadala pulusu recipe   spr...\n",
              "5937    to begin making the kashmiri kokur yakhni reci...\n",
              "Name: TranslatedInstructions, Length: 5938, dtype: object"
            ]
          },
          "execution_count": 24,
          "metadata": {},
          "output_type": "execute_result"
        }
      ],
      "source": [
        "import re\n",
        "df.TranslatedInstructions=df['TranslatedInstructions'].apply(lambda txt : re.sub(r'[^\\w\\s]',' ',re.sub(r'[ \\n]+',' ',txt,flags=re.MULTILINE)).lower())\n",
        "df[\"TranslatedInstructions\"]"
      ]
    },
    {
      "cell_type": "code",
      "execution_count": null,
      "id": "ad79b812",
      "metadata": {
        "id": "ad79b812"
      },
      "outputs": [],
      "source": [
        "df.to_csv(\"foodRecipes.txt\",columns=['TranslatedInstructions'],header=None,index=False)"
      ]
    },
    {
      "cell_type": "code",
      "execution_count": null,
      "id": "da43b755",
      "metadata": {
        "id": "da43b755"
      },
      "outputs": [],
      "source": [
        "model=fasttext.train_unsupervised(\"foodRecipes.txt\")"
      ]
    },
    {
      "cell_type": "code",
      "execution_count": null,
      "id": "541517e2",
      "metadata": {
        "id": "541517e2",
        "outputId": "71366116-6049-4eee-e45e-0ff463282017"
      },
      "outputs": [
        {
          "data": {
            "text/plain": [
              "[(0.8604281544685364, 'samosa'),\n",
              " (0.8287832736968994, 'samosas'),\n",
              " (0.7528615593910217, 'bhujiya'),\n",
              " (0.7090744376182556, 'shikampuri'),\n",
              " (0.7045128345489502, 'kachori'),\n",
              " (0.6973313689231873, 'keeme'),\n",
              " (0.6942858099937439, 'namkeen'),\n",
              " (0.6938086152076721, 'chori'),\n",
              " (0.6889879703521729, 'galouti'),\n",
              " (0.6880138516426086, 'narikol')]"
            ]
          },
          "execution_count": 27,
          "metadata": {},
          "output_type": "execute_result"
        }
      ],
      "source": [
        "model.get_nearest_neighbors('samosha')"
      ]
    },
    {
      "cell_type": "code",
      "execution_count": null,
      "id": "480d0846",
      "metadata": {
        "id": "480d0846",
        "outputId": "36cd8788-431e-4985-c58c-e758e7a8eff3"
      },
      "outputs": [
        {
          "data": {
            "text/plain": [
              "[(0.7919297218322754, 'sheer'),\n",
              " (0.787889301776886, 'phirni'),\n",
              " (0.7629253268241882, 'dudh'),\n",
              " (0.7547811269760132, 'kheel'),\n",
              " (0.7374436855316162, 'payesh'),\n",
              " (0.7277704477310181, 'seviyan'),\n",
              " (0.7264666557312012, 'mohan'),\n",
              " (0.7224151492118835, 'nolen'),\n",
              " (0.703136146068573, 'doodhi'),\n",
              " (0.7009098529815674, 'rabri')]"
            ]
          },
          "execution_count": 28,
          "metadata": {},
          "output_type": "execute_result"
        }
      ],
      "source": [
        "model.get_nearest_neighbors('kheer')"
      ]
    },
    {
      "cell_type": "code",
      "execution_count": null,
      "id": "56e2c706",
      "metadata": {
        "id": "56e2c706"
      },
      "outputs": [],
      "source": []
    }
  ],
  "metadata": {
    "kernelspec": {
      "display_name": "Python 3",
      "language": "python",
      "name": "python3"
    },
    "language_info": {
      "codemirror_mode": {
        "name": "ipython",
        "version": 3
      },
      "file_extension": ".py",
      "mimetype": "text/x-python",
      "name": "python",
      "nbconvert_exporter": "python",
      "pygments_lexer": "ipython3",
      "version": "3.8.8"
    },
    "colab": {
      "provenance": [],
      "include_colab_link": true
    }
  },
  "nbformat": 4,
  "nbformat_minor": 5
}